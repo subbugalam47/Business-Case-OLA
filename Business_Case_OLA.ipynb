{
  "nbformat": 4,
  "nbformat_minor": 0,
  "metadata": {
    "colab": {
      "provenance": []
    },
    "kernelspec": {
      "name": "python3",
      "display_name": "Python 3"
    },
    "language_info": {
      "name": "python"
    }
  },
  "cells": [
    {
      "cell_type": "markdown",
      "source": [
        "**Problem Statement**\n",
        "\n",
        "Recruiting and retaining drivers is seen by industry watchers as a tough battle for Ola. Churn among drivers is high and it’s very easy for drivers to stop working for the service on the fly or jump to Uber depending on the rates.\n",
        "\n",
        "As the companies get bigger, the high churn could become a bigger problem. To find new drivers, Ola is casting a wide net, including people who don’t have cars for jobs. But this acquisition is really costly. Losing drivers frequently impacts the morale of the organization and acquiring new drivers is more expensive than retaining existing ones.\n",
        "\n",
        "**Objective**\n",
        "\n",
        "we are provided with the monthly information for a segment of drivers for 2019 and 2020 and tasked to predict whether a driver will be leaving the company or not based on their attributes.\n",
        "\n",
        "SO it's Binary Classification problem"
      ],
      "metadata": {
        "id": "2MVZC7v6JCG9"
      }
    },
    {
      "cell_type": "markdown",
      "source": [
        "### **DATA**"
      ],
      "metadata": {
        "id": "wo782MNkJSsD"
      }
    },
    {
      "cell_type": "code",
      "execution_count": null,
      "metadata": {
        "colab": {
          "base_uri": "https://localhost:8080/"
        },
        "id": "suZ_cCovF7U7",
        "outputId": "db8a63b1-aa75-4d3c-e9c7-ce9723d06052"
      },
      "outputs": [
        {
          "output_type": "stream",
          "name": "stdout",
          "text": [
            "--2024-03-05 03:58:01--  https://d2beiqkhq929f0.cloudfront.net/public_assets/assets/000/002/492/original/ola_driver_scaler.csv\n",
            "Resolving d2beiqkhq929f0.cloudfront.net (d2beiqkhq929f0.cloudfront.net)... 18.172.139.61, 18.172.139.94, 18.172.139.46, ...\n",
            "Connecting to d2beiqkhq929f0.cloudfront.net (d2beiqkhq929f0.cloudfront.net)|18.172.139.61|:443... connected.\n",
            "HTTP request sent, awaiting response... 200 OK\n",
            "Length: 1127673 (1.1M) [text/plain]\n",
            "Saving to: ‘ola_driver_scaler.csv’\n",
            "\n",
            "\rola_driver_scaler.c   0%[                    ]       0  --.-KB/s               \rola_driver_scaler.c 100%[===================>]   1.08M  --.-KB/s    in 0.07s   \n",
            "\n",
            "2024-03-05 03:58:01 (16.3 MB/s) - ‘ola_driver_scaler.csv’ saved [1127673/1127673]\n",
            "\n"
          ]
        }
      ],
      "source": [
        "!wget \"https://d2beiqkhq929f0.cloudfront.net/public_assets/assets/000/002/492/original/ola_driver_scaler.csv\""
      ]
    },
    {
      "cell_type": "code",
      "source": [
        "import seaborn as sns\n",
        "import matplotlib.pyplot as plt\n",
        "import numpy as np\n",
        "import pandas as pd"
      ],
      "metadata": {
        "id": "b9xL1tthGQik"
      },
      "execution_count": null,
      "outputs": []
    },
    {
      "cell_type": "code",
      "source": [
        "df = pd.read_csv(\"ola_driver_scaler.csv\",index_col=0)"
      ],
      "metadata": {
        "id": "mLuoFGDLGfpy"
      },
      "execution_count": null,
      "outputs": []
    },
    {
      "cell_type": "code",
      "source": [
        "df.info()"
      ],
      "metadata": {
        "colab": {
          "base_uri": "https://localhost:8080/"
        },
        "id": "hN9X0G7dGhR2",
        "outputId": "1f35cfa9-7b0d-463c-9095-e7ecd91defc5"
      },
      "execution_count": null,
      "outputs": [
        {
          "output_type": "stream",
          "name": "stdout",
          "text": [
            "<class 'pandas.core.frame.DataFrame'>\n",
            "Int64Index: 19104 entries, 0 to 19103\n",
            "Data columns (total 13 columns):\n",
            " #   Column                Non-Null Count  Dtype  \n",
            "---  ------                --------------  -----  \n",
            " 0   MMM-YY                19104 non-null  object \n",
            " 1   Driver_ID             19104 non-null  int64  \n",
            " 2   Age                   19043 non-null  float64\n",
            " 3   Gender                19052 non-null  float64\n",
            " 4   City                  19104 non-null  object \n",
            " 5   Education_Level       19104 non-null  int64  \n",
            " 6   Income                19104 non-null  int64  \n",
            " 7   Dateofjoining         19104 non-null  object \n",
            " 8   LastWorkingDate       1616 non-null   object \n",
            " 9   Joining Designation   19104 non-null  int64  \n",
            " 10  Grade                 19104 non-null  int64  \n",
            " 11  Total Business Value  19104 non-null  int64  \n",
            " 12  Quarterly Rating      19104 non-null  int64  \n",
            "dtypes: float64(2), int64(7), object(4)\n",
            "memory usage: 2.0+ MB\n"
          ]
        }
      ]
    },
    {
      "cell_type": "markdown",
      "source": [
        "observation:  this seems there are some null values in features"
      ],
      "metadata": {
        "id": "1tIE1CopvmYR"
      }
    },
    {
      "cell_type": "code",
      "source": [
        "df.head()"
      ],
      "metadata": {
        "colab": {
          "base_uri": "https://localhost:8080/",
          "height": 261
        },
        "id": "6KU5cizeGtsS",
        "outputId": "b8f1d469-3a40-43f3-e570-4a41e834279b"
      },
      "execution_count": null,
      "outputs": [
        {
          "output_type": "execute_result",
          "data": {
            "text/plain": [
              "     MMM-YY  Driver_ID   Age  Gender City  Education_Level  Income  \\\n",
              "0  01/01/19          1  28.0     0.0  C23                2   57387   \n",
              "1  02/01/19          1  28.0     0.0  C23                2   57387   \n",
              "2  03/01/19          1  28.0     0.0  C23                2   57387   \n",
              "3  11/01/20          2  31.0     0.0   C7                2   67016   \n",
              "4  12/01/20          2  31.0     0.0   C7                2   67016   \n",
              "\n",
              "  Dateofjoining LastWorkingDate  Joining Designation  Grade  \\\n",
              "0      24/12/18             NaN                    1      1   \n",
              "1      24/12/18             NaN                    1      1   \n",
              "2      24/12/18        03/11/19                    1      1   \n",
              "3      11/06/20             NaN                    2      2   \n",
              "4      11/06/20             NaN                    2      2   \n",
              "\n",
              "   Total Business Value  Quarterly Rating  \n",
              "0               2381060                 2  \n",
              "1               -665480                 2  \n",
              "2                     0                 2  \n",
              "3                     0                 1  \n",
              "4                     0                 1  "
            ],
            "text/html": [
              "\n",
              "  <div id=\"df-b84a0805-2d4c-440a-b89c-c43b23c4a793\" class=\"colab-df-container\">\n",
              "    <div>\n",
              "<style scoped>\n",
              "    .dataframe tbody tr th:only-of-type {\n",
              "        vertical-align: middle;\n",
              "    }\n",
              "\n",
              "    .dataframe tbody tr th {\n",
              "        vertical-align: top;\n",
              "    }\n",
              "\n",
              "    .dataframe thead th {\n",
              "        text-align: right;\n",
              "    }\n",
              "</style>\n",
              "<table border=\"1\" class=\"dataframe\">\n",
              "  <thead>\n",
              "    <tr style=\"text-align: right;\">\n",
              "      <th></th>\n",
              "      <th>MMM-YY</th>\n",
              "      <th>Driver_ID</th>\n",
              "      <th>Age</th>\n",
              "      <th>Gender</th>\n",
              "      <th>City</th>\n",
              "      <th>Education_Level</th>\n",
              "      <th>Income</th>\n",
              "      <th>Dateofjoining</th>\n",
              "      <th>LastWorkingDate</th>\n",
              "      <th>Joining Designation</th>\n",
              "      <th>Grade</th>\n",
              "      <th>Total Business Value</th>\n",
              "      <th>Quarterly Rating</th>\n",
              "    </tr>\n",
              "  </thead>\n",
              "  <tbody>\n",
              "    <tr>\n",
              "      <th>0</th>\n",
              "      <td>01/01/19</td>\n",
              "      <td>1</td>\n",
              "      <td>28.0</td>\n",
              "      <td>0.0</td>\n",
              "      <td>C23</td>\n",
              "      <td>2</td>\n",
              "      <td>57387</td>\n",
              "      <td>24/12/18</td>\n",
              "      <td>NaN</td>\n",
              "      <td>1</td>\n",
              "      <td>1</td>\n",
              "      <td>2381060</td>\n",
              "      <td>2</td>\n",
              "    </tr>\n",
              "    <tr>\n",
              "      <th>1</th>\n",
              "      <td>02/01/19</td>\n",
              "      <td>1</td>\n",
              "      <td>28.0</td>\n",
              "      <td>0.0</td>\n",
              "      <td>C23</td>\n",
              "      <td>2</td>\n",
              "      <td>57387</td>\n",
              "      <td>24/12/18</td>\n",
              "      <td>NaN</td>\n",
              "      <td>1</td>\n",
              "      <td>1</td>\n",
              "      <td>-665480</td>\n",
              "      <td>2</td>\n",
              "    </tr>\n",
              "    <tr>\n",
              "      <th>2</th>\n",
              "      <td>03/01/19</td>\n",
              "      <td>1</td>\n",
              "      <td>28.0</td>\n",
              "      <td>0.0</td>\n",
              "      <td>C23</td>\n",
              "      <td>2</td>\n",
              "      <td>57387</td>\n",
              "      <td>24/12/18</td>\n",
              "      <td>03/11/19</td>\n",
              "      <td>1</td>\n",
              "      <td>1</td>\n",
              "      <td>0</td>\n",
              "      <td>2</td>\n",
              "    </tr>\n",
              "    <tr>\n",
              "      <th>3</th>\n",
              "      <td>11/01/20</td>\n",
              "      <td>2</td>\n",
              "      <td>31.0</td>\n",
              "      <td>0.0</td>\n",
              "      <td>C7</td>\n",
              "      <td>2</td>\n",
              "      <td>67016</td>\n",
              "      <td>11/06/20</td>\n",
              "      <td>NaN</td>\n",
              "      <td>2</td>\n",
              "      <td>2</td>\n",
              "      <td>0</td>\n",
              "      <td>1</td>\n",
              "    </tr>\n",
              "    <tr>\n",
              "      <th>4</th>\n",
              "      <td>12/01/20</td>\n",
              "      <td>2</td>\n",
              "      <td>31.0</td>\n",
              "      <td>0.0</td>\n",
              "      <td>C7</td>\n",
              "      <td>2</td>\n",
              "      <td>67016</td>\n",
              "      <td>11/06/20</td>\n",
              "      <td>NaN</td>\n",
              "      <td>2</td>\n",
              "      <td>2</td>\n",
              "      <td>0</td>\n",
              "      <td>1</td>\n",
              "    </tr>\n",
              "  </tbody>\n",
              "</table>\n",
              "</div>\n",
              "    <div class=\"colab-df-buttons\">\n",
              "\n",
              "  <div class=\"colab-df-container\">\n",
              "    <button class=\"colab-df-convert\" onclick=\"convertToInteractive('df-b84a0805-2d4c-440a-b89c-c43b23c4a793')\"\n",
              "            title=\"Convert this dataframe to an interactive table.\"\n",
              "            style=\"display:none;\">\n",
              "\n",
              "  <svg xmlns=\"http://www.w3.org/2000/svg\" height=\"24px\" viewBox=\"0 -960 960 960\">\n",
              "    <path d=\"M120-120v-720h720v720H120Zm60-500h600v-160H180v160Zm220 220h160v-160H400v160Zm0 220h160v-160H400v160ZM180-400h160v-160H180v160Zm440 0h160v-160H620v160ZM180-180h160v-160H180v160Zm440 0h160v-160H620v160Z\"/>\n",
              "  </svg>\n",
              "    </button>\n",
              "\n",
              "  <style>\n",
              "    .colab-df-container {\n",
              "      display:flex;\n",
              "      gap: 12px;\n",
              "    }\n",
              "\n",
              "    .colab-df-convert {\n",
              "      background-color: #E8F0FE;\n",
              "      border: none;\n",
              "      border-radius: 50%;\n",
              "      cursor: pointer;\n",
              "      display: none;\n",
              "      fill: #1967D2;\n",
              "      height: 32px;\n",
              "      padding: 0 0 0 0;\n",
              "      width: 32px;\n",
              "    }\n",
              "\n",
              "    .colab-df-convert:hover {\n",
              "      background-color: #E2EBFA;\n",
              "      box-shadow: 0px 1px 2px rgba(60, 64, 67, 0.3), 0px 1px 3px 1px rgba(60, 64, 67, 0.15);\n",
              "      fill: #174EA6;\n",
              "    }\n",
              "\n",
              "    .colab-df-buttons div {\n",
              "      margin-bottom: 4px;\n",
              "    }\n",
              "\n",
              "    [theme=dark] .colab-df-convert {\n",
              "      background-color: #3B4455;\n",
              "      fill: #D2E3FC;\n",
              "    }\n",
              "\n",
              "    [theme=dark] .colab-df-convert:hover {\n",
              "      background-color: #434B5C;\n",
              "      box-shadow: 0px 1px 3px 1px rgba(0, 0, 0, 0.15);\n",
              "      filter: drop-shadow(0px 1px 2px rgba(0, 0, 0, 0.3));\n",
              "      fill: #FFFFFF;\n",
              "    }\n",
              "  </style>\n",
              "\n",
              "    <script>\n",
              "      const buttonEl =\n",
              "        document.querySelector('#df-b84a0805-2d4c-440a-b89c-c43b23c4a793 button.colab-df-convert');\n",
              "      buttonEl.style.display =\n",
              "        google.colab.kernel.accessAllowed ? 'block' : 'none';\n",
              "\n",
              "      async function convertToInteractive(key) {\n",
              "        const element = document.querySelector('#df-b84a0805-2d4c-440a-b89c-c43b23c4a793');\n",
              "        const dataTable =\n",
              "          await google.colab.kernel.invokeFunction('convertToInteractive',\n",
              "                                                    [key], {});\n",
              "        if (!dataTable) return;\n",
              "\n",
              "        const docLinkHtml = 'Like what you see? Visit the ' +\n",
              "          '<a target=\"_blank\" href=https://colab.research.google.com/notebooks/data_table.ipynb>data table notebook</a>'\n",
              "          + ' to learn more about interactive tables.';\n",
              "        element.innerHTML = '';\n",
              "        dataTable['output_type'] = 'display_data';\n",
              "        await google.colab.output.renderOutput(dataTable, element);\n",
              "        const docLink = document.createElement('div');\n",
              "        docLink.innerHTML = docLinkHtml;\n",
              "        element.appendChild(docLink);\n",
              "      }\n",
              "    </script>\n",
              "  </div>\n",
              "\n",
              "\n",
              "<div id=\"df-9e984e19-3a72-4f86-8684-701b2e374550\">\n",
              "  <button class=\"colab-df-quickchart\" onclick=\"quickchart('df-9e984e19-3a72-4f86-8684-701b2e374550')\"\n",
              "            title=\"Suggest charts\"\n",
              "            style=\"display:none;\">\n",
              "\n",
              "<svg xmlns=\"http://www.w3.org/2000/svg\" height=\"24px\"viewBox=\"0 0 24 24\"\n",
              "     width=\"24px\">\n",
              "    <g>\n",
              "        <path d=\"M19 3H5c-1.1 0-2 .9-2 2v14c0 1.1.9 2 2 2h14c1.1 0 2-.9 2-2V5c0-1.1-.9-2-2-2zM9 17H7v-7h2v7zm4 0h-2V7h2v10zm4 0h-2v-4h2v4z\"/>\n",
              "    </g>\n",
              "</svg>\n",
              "  </button>\n",
              "\n",
              "<style>\n",
              "  .colab-df-quickchart {\n",
              "      --bg-color: #E8F0FE;\n",
              "      --fill-color: #1967D2;\n",
              "      --hover-bg-color: #E2EBFA;\n",
              "      --hover-fill-color: #174EA6;\n",
              "      --disabled-fill-color: #AAA;\n",
              "      --disabled-bg-color: #DDD;\n",
              "  }\n",
              "\n",
              "  [theme=dark] .colab-df-quickchart {\n",
              "      --bg-color: #3B4455;\n",
              "      --fill-color: #D2E3FC;\n",
              "      --hover-bg-color: #434B5C;\n",
              "      --hover-fill-color: #FFFFFF;\n",
              "      --disabled-bg-color: #3B4455;\n",
              "      --disabled-fill-color: #666;\n",
              "  }\n",
              "\n",
              "  .colab-df-quickchart {\n",
              "    background-color: var(--bg-color);\n",
              "    border: none;\n",
              "    border-radius: 50%;\n",
              "    cursor: pointer;\n",
              "    display: none;\n",
              "    fill: var(--fill-color);\n",
              "    height: 32px;\n",
              "    padding: 0;\n",
              "    width: 32px;\n",
              "  }\n",
              "\n",
              "  .colab-df-quickchart:hover {\n",
              "    background-color: var(--hover-bg-color);\n",
              "    box-shadow: 0 1px 2px rgba(60, 64, 67, 0.3), 0 1px 3px 1px rgba(60, 64, 67, 0.15);\n",
              "    fill: var(--button-hover-fill-color);\n",
              "  }\n",
              "\n",
              "  .colab-df-quickchart-complete:disabled,\n",
              "  .colab-df-quickchart-complete:disabled:hover {\n",
              "    background-color: var(--disabled-bg-color);\n",
              "    fill: var(--disabled-fill-color);\n",
              "    box-shadow: none;\n",
              "  }\n",
              "\n",
              "  .colab-df-spinner {\n",
              "    border: 2px solid var(--fill-color);\n",
              "    border-color: transparent;\n",
              "    border-bottom-color: var(--fill-color);\n",
              "    animation:\n",
              "      spin 1s steps(1) infinite;\n",
              "  }\n",
              "\n",
              "  @keyframes spin {\n",
              "    0% {\n",
              "      border-color: transparent;\n",
              "      border-bottom-color: var(--fill-color);\n",
              "      border-left-color: var(--fill-color);\n",
              "    }\n",
              "    20% {\n",
              "      border-color: transparent;\n",
              "      border-left-color: var(--fill-color);\n",
              "      border-top-color: var(--fill-color);\n",
              "    }\n",
              "    30% {\n",
              "      border-color: transparent;\n",
              "      border-left-color: var(--fill-color);\n",
              "      border-top-color: var(--fill-color);\n",
              "      border-right-color: var(--fill-color);\n",
              "    }\n",
              "    40% {\n",
              "      border-color: transparent;\n",
              "      border-right-color: var(--fill-color);\n",
              "      border-top-color: var(--fill-color);\n",
              "    }\n",
              "    60% {\n",
              "      border-color: transparent;\n",
              "      border-right-color: var(--fill-color);\n",
              "    }\n",
              "    80% {\n",
              "      border-color: transparent;\n",
              "      border-right-color: var(--fill-color);\n",
              "      border-bottom-color: var(--fill-color);\n",
              "    }\n",
              "    90% {\n",
              "      border-color: transparent;\n",
              "      border-bottom-color: var(--fill-color);\n",
              "    }\n",
              "  }\n",
              "</style>\n",
              "\n",
              "  <script>\n",
              "    async function quickchart(key) {\n",
              "      const quickchartButtonEl =\n",
              "        document.querySelector('#' + key + ' button');\n",
              "      quickchartButtonEl.disabled = true;  // To prevent multiple clicks.\n",
              "      quickchartButtonEl.classList.add('colab-df-spinner');\n",
              "      try {\n",
              "        const charts = await google.colab.kernel.invokeFunction(\n",
              "            'suggestCharts', [key], {});\n",
              "      } catch (error) {\n",
              "        console.error('Error during call to suggestCharts:', error);\n",
              "      }\n",
              "      quickchartButtonEl.classList.remove('colab-df-spinner');\n",
              "      quickchartButtonEl.classList.add('colab-df-quickchart-complete');\n",
              "    }\n",
              "    (() => {\n",
              "      let quickchartButtonEl =\n",
              "        document.querySelector('#df-9e984e19-3a72-4f86-8684-701b2e374550 button');\n",
              "      quickchartButtonEl.style.display =\n",
              "        google.colab.kernel.accessAllowed ? 'block' : 'none';\n",
              "    })();\n",
              "  </script>\n",
              "</div>\n",
              "\n",
              "    </div>\n",
              "  </div>\n"
            ],
            "application/vnd.google.colaboratory.intrinsic+json": {
              "type": "dataframe",
              "variable_name": "df",
              "repr_error": "'str' object has no attribute 'empty'"
            }
          },
          "metadata": {},
          "execution_count": 5
        }
      ]
    },
    {
      "cell_type": "code",
      "source": [
        "df.isnull().sum()"
      ],
      "metadata": {
        "colab": {
          "base_uri": "https://localhost:8080/"
        },
        "id": "x6SLaeaXRUbY",
        "outputId": "514a8daa-8ff2-40a4-c593-dc584d93b12a"
      },
      "execution_count": null,
      "outputs": [
        {
          "output_type": "execute_result",
          "data": {
            "text/plain": [
              "MMM-YY                      0\n",
              "Driver_ID                   0\n",
              "Age                        61\n",
              "Gender                     52\n",
              "City                        0\n",
              "Education_Level             0\n",
              "Income                      0\n",
              "Dateofjoining               0\n",
              "LastWorkingDate         17488\n",
              "Joining Designation         0\n",
              "Grade                       0\n",
              "Total Business Value        0\n",
              "Quarterly Rating            0\n",
              "dtype: int64"
            ]
          },
          "metadata": {},
          "execution_count": 6
        }
      ]
    },
    {
      "cell_type": "code",
      "source": [
        "# Considering people having lastworking date as churned and else are not churned.\n",
        "\n",
        "df[\"IsChurn\"] = np.where(df['LastWorkingDate'].isna(),0,1)"
      ],
      "metadata": {
        "id": "PztbklqGcF9l"
      },
      "execution_count": null,
      "outputs": []
    },
    {
      "cell_type": "code",
      "source": [
        "df.drop(['LastWorkingDate'],axis=1,inplace=True)"
      ],
      "metadata": {
        "id": "68JDa4HQh-uX"
      },
      "execution_count": null,
      "outputs": []
    },
    {
      "cell_type": "code",
      "source": [
        "df.isnull().sum()"
      ],
      "metadata": {
        "colab": {
          "base_uri": "https://localhost:8080/"
        },
        "id": "Py_Fb3_3Shje",
        "outputId": "636491ba-a782-4c4c-dffb-6227d5d0f5ba"
      },
      "execution_count": null,
      "outputs": [
        {
          "output_type": "execute_result",
          "data": {
            "text/plain": [
              "MMM-YY                   0\n",
              "Driver_ID                0\n",
              "Age                     61\n",
              "Gender                  52\n",
              "City                     0\n",
              "Education_Level          0\n",
              "Income                   0\n",
              "Dateofjoining            0\n",
              "Joining Designation      0\n",
              "Grade                    0\n",
              "Total Business Value     0\n",
              "Quarterly Rating         0\n",
              "IsChurn                  0\n",
              "dtype: int64"
            ]
          },
          "metadata": {},
          "execution_count": 9
        }
      ]
    },
    {
      "cell_type": "code",
      "source": [
        "df.describe()"
      ],
      "metadata": {
        "colab": {
          "base_uri": "https://localhost:8080/",
          "height": 355
        },
        "id": "Zs6UMjegShhF",
        "outputId": "9344d9b6-2274-4ff8-b336-6dff3bc487a2"
      },
      "execution_count": null,
      "outputs": [
        {
          "output_type": "execute_result",
          "data": {
            "text/plain": [
              "          Driver_ID           Age        Gender  Education_Level  \\\n",
              "count  19104.000000  19043.000000  19052.000000     19104.000000   \n",
              "mean    1415.591133     34.668435      0.418749         1.021671   \n",
              "std      810.705321      6.257912      0.493367         0.800167   \n",
              "min        1.000000     21.000000      0.000000         0.000000   \n",
              "25%      710.000000     30.000000      0.000000         0.000000   \n",
              "50%     1417.000000     34.000000      0.000000         1.000000   \n",
              "75%     2137.000000     39.000000      1.000000         2.000000   \n",
              "max     2788.000000     58.000000      1.000000         2.000000   \n",
              "\n",
              "              Income  Joining Designation         Grade  Total Business Value  \\\n",
              "count   19104.000000         19104.000000  19104.000000          1.910400e+04   \n",
              "mean    65652.025126             1.690536      2.252670          5.716621e+05   \n",
              "std     30914.515344             0.836984      1.026512          1.128312e+06   \n",
              "min     10747.000000             1.000000      1.000000         -6.000000e+06   \n",
              "25%     42383.000000             1.000000      1.000000          0.000000e+00   \n",
              "50%     60087.000000             1.000000      2.000000          2.500000e+05   \n",
              "75%     83969.000000             2.000000      3.000000          6.997000e+05   \n",
              "max    188418.000000             5.000000      5.000000          3.374772e+07   \n",
              "\n",
              "       Quarterly Rating       IsChurn  \n",
              "count      19104.000000  19104.000000  \n",
              "mean           2.008899      0.084590  \n",
              "std            1.009832      0.278277  \n",
              "min            1.000000      0.000000  \n",
              "25%            1.000000      0.000000  \n",
              "50%            2.000000      0.000000  \n",
              "75%            3.000000      0.000000  \n",
              "max            4.000000      1.000000  "
            ],
            "text/html": [
              "\n",
              "  <div id=\"df-0f736089-f691-4a1b-9cff-9e7b91a68692\" class=\"colab-df-container\">\n",
              "    <div>\n",
              "<style scoped>\n",
              "    .dataframe tbody tr th:only-of-type {\n",
              "        vertical-align: middle;\n",
              "    }\n",
              "\n",
              "    .dataframe tbody tr th {\n",
              "        vertical-align: top;\n",
              "    }\n",
              "\n",
              "    .dataframe thead th {\n",
              "        text-align: right;\n",
              "    }\n",
              "</style>\n",
              "<table border=\"1\" class=\"dataframe\">\n",
              "  <thead>\n",
              "    <tr style=\"text-align: right;\">\n",
              "      <th></th>\n",
              "      <th>Driver_ID</th>\n",
              "      <th>Age</th>\n",
              "      <th>Gender</th>\n",
              "      <th>Education_Level</th>\n",
              "      <th>Income</th>\n",
              "      <th>Joining Designation</th>\n",
              "      <th>Grade</th>\n",
              "      <th>Total Business Value</th>\n",
              "      <th>Quarterly Rating</th>\n",
              "      <th>IsChurn</th>\n",
              "    </tr>\n",
              "  </thead>\n",
              "  <tbody>\n",
              "    <tr>\n",
              "      <th>count</th>\n",
              "      <td>19104.000000</td>\n",
              "      <td>19043.000000</td>\n",
              "      <td>19052.000000</td>\n",
              "      <td>19104.000000</td>\n",
              "      <td>19104.000000</td>\n",
              "      <td>19104.000000</td>\n",
              "      <td>19104.000000</td>\n",
              "      <td>1.910400e+04</td>\n",
              "      <td>19104.000000</td>\n",
              "      <td>19104.000000</td>\n",
              "    </tr>\n",
              "    <tr>\n",
              "      <th>mean</th>\n",
              "      <td>1415.591133</td>\n",
              "      <td>34.668435</td>\n",
              "      <td>0.418749</td>\n",
              "      <td>1.021671</td>\n",
              "      <td>65652.025126</td>\n",
              "      <td>1.690536</td>\n",
              "      <td>2.252670</td>\n",
              "      <td>5.716621e+05</td>\n",
              "      <td>2.008899</td>\n",
              "      <td>0.084590</td>\n",
              "    </tr>\n",
              "    <tr>\n",
              "      <th>std</th>\n",
              "      <td>810.705321</td>\n",
              "      <td>6.257912</td>\n",
              "      <td>0.493367</td>\n",
              "      <td>0.800167</td>\n",
              "      <td>30914.515344</td>\n",
              "      <td>0.836984</td>\n",
              "      <td>1.026512</td>\n",
              "      <td>1.128312e+06</td>\n",
              "      <td>1.009832</td>\n",
              "      <td>0.278277</td>\n",
              "    </tr>\n",
              "    <tr>\n",
              "      <th>min</th>\n",
              "      <td>1.000000</td>\n",
              "      <td>21.000000</td>\n",
              "      <td>0.000000</td>\n",
              "      <td>0.000000</td>\n",
              "      <td>10747.000000</td>\n",
              "      <td>1.000000</td>\n",
              "      <td>1.000000</td>\n",
              "      <td>-6.000000e+06</td>\n",
              "      <td>1.000000</td>\n",
              "      <td>0.000000</td>\n",
              "    </tr>\n",
              "    <tr>\n",
              "      <th>25%</th>\n",
              "      <td>710.000000</td>\n",
              "      <td>30.000000</td>\n",
              "      <td>0.000000</td>\n",
              "      <td>0.000000</td>\n",
              "      <td>42383.000000</td>\n",
              "      <td>1.000000</td>\n",
              "      <td>1.000000</td>\n",
              "      <td>0.000000e+00</td>\n",
              "      <td>1.000000</td>\n",
              "      <td>0.000000</td>\n",
              "    </tr>\n",
              "    <tr>\n",
              "      <th>50%</th>\n",
              "      <td>1417.000000</td>\n",
              "      <td>34.000000</td>\n",
              "      <td>0.000000</td>\n",
              "      <td>1.000000</td>\n",
              "      <td>60087.000000</td>\n",
              "      <td>1.000000</td>\n",
              "      <td>2.000000</td>\n",
              "      <td>2.500000e+05</td>\n",
              "      <td>2.000000</td>\n",
              "      <td>0.000000</td>\n",
              "    </tr>\n",
              "    <tr>\n",
              "      <th>75%</th>\n",
              "      <td>2137.000000</td>\n",
              "      <td>39.000000</td>\n",
              "      <td>1.000000</td>\n",
              "      <td>2.000000</td>\n",
              "      <td>83969.000000</td>\n",
              "      <td>2.000000</td>\n",
              "      <td>3.000000</td>\n",
              "      <td>6.997000e+05</td>\n",
              "      <td>3.000000</td>\n",
              "      <td>0.000000</td>\n",
              "    </tr>\n",
              "    <tr>\n",
              "      <th>max</th>\n",
              "      <td>2788.000000</td>\n",
              "      <td>58.000000</td>\n",
              "      <td>1.000000</td>\n",
              "      <td>2.000000</td>\n",
              "      <td>188418.000000</td>\n",
              "      <td>5.000000</td>\n",
              "      <td>5.000000</td>\n",
              "      <td>3.374772e+07</td>\n",
              "      <td>4.000000</td>\n",
              "      <td>1.000000</td>\n",
              "    </tr>\n",
              "  </tbody>\n",
              "</table>\n",
              "</div>\n",
              "    <div class=\"colab-df-buttons\">\n",
              "\n",
              "  <div class=\"colab-df-container\">\n",
              "    <button class=\"colab-df-convert\" onclick=\"convertToInteractive('df-0f736089-f691-4a1b-9cff-9e7b91a68692')\"\n",
              "            title=\"Convert this dataframe to an interactive table.\"\n",
              "            style=\"display:none;\">\n",
              "\n",
              "  <svg xmlns=\"http://www.w3.org/2000/svg\" height=\"24px\" viewBox=\"0 -960 960 960\">\n",
              "    <path d=\"M120-120v-720h720v720H120Zm60-500h600v-160H180v160Zm220 220h160v-160H400v160Zm0 220h160v-160H400v160ZM180-400h160v-160H180v160Zm440 0h160v-160H620v160ZM180-180h160v-160H180v160Zm440 0h160v-160H620v160Z\"/>\n",
              "  </svg>\n",
              "    </button>\n",
              "\n",
              "  <style>\n",
              "    .colab-df-container {\n",
              "      display:flex;\n",
              "      gap: 12px;\n",
              "    }\n",
              "\n",
              "    .colab-df-convert {\n",
              "      background-color: #E8F0FE;\n",
              "      border: none;\n",
              "      border-radius: 50%;\n",
              "      cursor: pointer;\n",
              "      display: none;\n",
              "      fill: #1967D2;\n",
              "      height: 32px;\n",
              "      padding: 0 0 0 0;\n",
              "      width: 32px;\n",
              "    }\n",
              "\n",
              "    .colab-df-convert:hover {\n",
              "      background-color: #E2EBFA;\n",
              "      box-shadow: 0px 1px 2px rgba(60, 64, 67, 0.3), 0px 1px 3px 1px rgba(60, 64, 67, 0.15);\n",
              "      fill: #174EA6;\n",
              "    }\n",
              "\n",
              "    .colab-df-buttons div {\n",
              "      margin-bottom: 4px;\n",
              "    }\n",
              "\n",
              "    [theme=dark] .colab-df-convert {\n",
              "      background-color: #3B4455;\n",
              "      fill: #D2E3FC;\n",
              "    }\n",
              "\n",
              "    [theme=dark] .colab-df-convert:hover {\n",
              "      background-color: #434B5C;\n",
              "      box-shadow: 0px 1px 3px 1px rgba(0, 0, 0, 0.15);\n",
              "      filter: drop-shadow(0px 1px 2px rgba(0, 0, 0, 0.3));\n",
              "      fill: #FFFFFF;\n",
              "    }\n",
              "  </style>\n",
              "\n",
              "    <script>\n",
              "      const buttonEl =\n",
              "        document.querySelector('#df-0f736089-f691-4a1b-9cff-9e7b91a68692 button.colab-df-convert');\n",
              "      buttonEl.style.display =\n",
              "        google.colab.kernel.accessAllowed ? 'block' : 'none';\n",
              "\n",
              "      async function convertToInteractive(key) {\n",
              "        const element = document.querySelector('#df-0f736089-f691-4a1b-9cff-9e7b91a68692');\n",
              "        const dataTable =\n",
              "          await google.colab.kernel.invokeFunction('convertToInteractive',\n",
              "                                                    [key], {});\n",
              "        if (!dataTable) return;\n",
              "\n",
              "        const docLinkHtml = 'Like what you see? Visit the ' +\n",
              "          '<a target=\"_blank\" href=https://colab.research.google.com/notebooks/data_table.ipynb>data table notebook</a>'\n",
              "          + ' to learn more about interactive tables.';\n",
              "        element.innerHTML = '';\n",
              "        dataTable['output_type'] = 'display_data';\n",
              "        await google.colab.output.renderOutput(dataTable, element);\n",
              "        const docLink = document.createElement('div');\n",
              "        docLink.innerHTML = docLinkHtml;\n",
              "        element.appendChild(docLink);\n",
              "      }\n",
              "    </script>\n",
              "  </div>\n",
              "\n",
              "\n",
              "<div id=\"df-18999f70-5c6c-4776-b8cd-acaf26894f9a\">\n",
              "  <button class=\"colab-df-quickchart\" onclick=\"quickchart('df-18999f70-5c6c-4776-b8cd-acaf26894f9a')\"\n",
              "            title=\"Suggest charts\"\n",
              "            style=\"display:none;\">\n",
              "\n",
              "<svg xmlns=\"http://www.w3.org/2000/svg\" height=\"24px\"viewBox=\"0 0 24 24\"\n",
              "     width=\"24px\">\n",
              "    <g>\n",
              "        <path d=\"M19 3H5c-1.1 0-2 .9-2 2v14c0 1.1.9 2 2 2h14c1.1 0 2-.9 2-2V5c0-1.1-.9-2-2-2zM9 17H7v-7h2v7zm4 0h-2V7h2v10zm4 0h-2v-4h2v4z\"/>\n",
              "    </g>\n",
              "</svg>\n",
              "  </button>\n",
              "\n",
              "<style>\n",
              "  .colab-df-quickchart {\n",
              "      --bg-color: #E8F0FE;\n",
              "      --fill-color: #1967D2;\n",
              "      --hover-bg-color: #E2EBFA;\n",
              "      --hover-fill-color: #174EA6;\n",
              "      --disabled-fill-color: #AAA;\n",
              "      --disabled-bg-color: #DDD;\n",
              "  }\n",
              "\n",
              "  [theme=dark] .colab-df-quickchart {\n",
              "      --bg-color: #3B4455;\n",
              "      --fill-color: #D2E3FC;\n",
              "      --hover-bg-color: #434B5C;\n",
              "      --hover-fill-color: #FFFFFF;\n",
              "      --disabled-bg-color: #3B4455;\n",
              "      --disabled-fill-color: #666;\n",
              "  }\n",
              "\n",
              "  .colab-df-quickchart {\n",
              "    background-color: var(--bg-color);\n",
              "    border: none;\n",
              "    border-radius: 50%;\n",
              "    cursor: pointer;\n",
              "    display: none;\n",
              "    fill: var(--fill-color);\n",
              "    height: 32px;\n",
              "    padding: 0;\n",
              "    width: 32px;\n",
              "  }\n",
              "\n",
              "  .colab-df-quickchart:hover {\n",
              "    background-color: var(--hover-bg-color);\n",
              "    box-shadow: 0 1px 2px rgba(60, 64, 67, 0.3), 0 1px 3px 1px rgba(60, 64, 67, 0.15);\n",
              "    fill: var(--button-hover-fill-color);\n",
              "  }\n",
              "\n",
              "  .colab-df-quickchart-complete:disabled,\n",
              "  .colab-df-quickchart-complete:disabled:hover {\n",
              "    background-color: var(--disabled-bg-color);\n",
              "    fill: var(--disabled-fill-color);\n",
              "    box-shadow: none;\n",
              "  }\n",
              "\n",
              "  .colab-df-spinner {\n",
              "    border: 2px solid var(--fill-color);\n",
              "    border-color: transparent;\n",
              "    border-bottom-color: var(--fill-color);\n",
              "    animation:\n",
              "      spin 1s steps(1) infinite;\n",
              "  }\n",
              "\n",
              "  @keyframes spin {\n",
              "    0% {\n",
              "      border-color: transparent;\n",
              "      border-bottom-color: var(--fill-color);\n",
              "      border-left-color: var(--fill-color);\n",
              "    }\n",
              "    20% {\n",
              "      border-color: transparent;\n",
              "      border-left-color: var(--fill-color);\n",
              "      border-top-color: var(--fill-color);\n",
              "    }\n",
              "    30% {\n",
              "      border-color: transparent;\n",
              "      border-left-color: var(--fill-color);\n",
              "      border-top-color: var(--fill-color);\n",
              "      border-right-color: var(--fill-color);\n",
              "    }\n",
              "    40% {\n",
              "      border-color: transparent;\n",
              "      border-right-color: var(--fill-color);\n",
              "      border-top-color: var(--fill-color);\n",
              "    }\n",
              "    60% {\n",
              "      border-color: transparent;\n",
              "      border-right-color: var(--fill-color);\n",
              "    }\n",
              "    80% {\n",
              "      border-color: transparent;\n",
              "      border-right-color: var(--fill-color);\n",
              "      border-bottom-color: var(--fill-color);\n",
              "    }\n",
              "    90% {\n",
              "      border-color: transparent;\n",
              "      border-bottom-color: var(--fill-color);\n",
              "    }\n",
              "  }\n",
              "</style>\n",
              "\n",
              "  <script>\n",
              "    async function quickchart(key) {\n",
              "      const quickchartButtonEl =\n",
              "        document.querySelector('#' + key + ' button');\n",
              "      quickchartButtonEl.disabled = true;  // To prevent multiple clicks.\n",
              "      quickchartButtonEl.classList.add('colab-df-spinner');\n",
              "      try {\n",
              "        const charts = await google.colab.kernel.invokeFunction(\n",
              "            'suggestCharts', [key], {});\n",
              "      } catch (error) {\n",
              "        console.error('Error during call to suggestCharts:', error);\n",
              "      }\n",
              "      quickchartButtonEl.classList.remove('colab-df-spinner');\n",
              "      quickchartButtonEl.classList.add('colab-df-quickchart-complete');\n",
              "    }\n",
              "    (() => {\n",
              "      let quickchartButtonEl =\n",
              "        document.querySelector('#df-18999f70-5c6c-4776-b8cd-acaf26894f9a button');\n",
              "      quickchartButtonEl.style.display =\n",
              "        google.colab.kernel.accessAllowed ? 'block' : 'none';\n",
              "    })();\n",
              "  </script>\n",
              "</div>\n",
              "\n",
              "    </div>\n",
              "  </div>\n"
            ],
            "application/vnd.google.colaboratory.intrinsic+json": {
              "type": "dataframe",
              "summary": "{\n  \"name\": \"df\",\n  \"rows\": 8,\n  \"fields\": [\n    {\n      \"column\": \"Driver_ID\",\n      \"properties\": {\n        \"dtype\": \"number\",\n        \"std\": 6344.561458172487,\n        \"min\": 1.0,\n        \"max\": 19104.0,\n        \"num_unique_values\": 8,\n        \"samples\": [\n          1415.5911327470687,\n          1417.0,\n          19104.0\n        ],\n        \"semantic_type\": \"\",\n        \"description\": \"\"\n      }\n    },\n    {\n      \"column\": \"Age\",\n      \"properties\": {\n        \"dtype\": \"number\",\n        \"std\": 6721.473927583281,\n        \"min\": 6.257911686190604,\n        \"max\": 19043.0,\n        \"num_unique_values\": 8,\n        \"samples\": [\n          34.668434595389385,\n          34.0,\n          19043.0\n        ],\n        \"semantic_type\": \"\",\n        \"description\": \"\"\n      }\n    },\n    {\n      \"column\": \"Gender\",\n      \"properties\": {\n        \"dtype\": \"number\",\n        \"std\": 6735.752126331659,\n        \"min\": 0.0,\n        \"max\": 19052.0,\n        \"num_unique_values\": 5,\n        \"samples\": [\n          0.4187486878018056,\n          1.0,\n          0.49336700376604115\n        ],\n        \"semantic_type\": \"\",\n        \"description\": \"\"\n      }\n    },\n    {\n      \"column\": \"Education_Level\",\n      \"properties\": {\n        \"dtype\": \"number\",\n        \"std\": 6753.939461727606,\n        \"min\": 0.0,\n        \"max\": 19104.0,\n        \"num_unique_values\": 6,\n        \"samples\": [\n          19104.0,\n          1.0216708542713568,\n          2.0\n        ],\n        \"semantic_type\": \"\",\n        \"description\": \"\"\n      }\n    },\n    {\n      \"column\": \"Income\",\n      \"properties\": {\n        \"dtype\": \"number\",\n        \"std\": 56436.738053256035,\n        \"min\": 10747.0,\n        \"max\": 188418.0,\n        \"num_unique_values\": 8,\n        \"samples\": [\n          65652.02512562813,\n          60087.0,\n          19104.0\n        ],\n        \"semantic_type\": \"\",\n        \"description\": \"\"\n      }\n    },\n    {\n      \"column\": \"Joining Designation\",\n      \"properties\": {\n        \"dtype\": \"number\",\n        \"std\": 6753.651377555244,\n        \"min\": 0.8369837171189359,\n        \"max\": 19104.0,\n        \"num_unique_values\": 6,\n        \"samples\": [\n          19104.0,\n          1.690536013400335,\n          5.0\n        ],\n        \"semantic_type\": \"\",\n        \"description\": \"\"\n      }\n    },\n    {\n      \"column\": \"Grade\",\n      \"properties\": {\n        \"dtype\": \"number\",\n        \"std\": 6753.512393804841,\n        \"min\": 1.0,\n        \"max\": 19104.0,\n        \"num_unique_values\": 7,\n        \"samples\": [\n          19104.0,\n          2.2526695979899496,\n          3.0\n        ],\n        \"semantic_type\": \"\",\n        \"description\": \"\"\n      }\n    },\n    {\n      \"column\": \"Total Business Value\",\n      \"properties\": {\n        \"dtype\": \"number\",\n        \"std\": 12313845.373558125,\n        \"min\": -6000000.0,\n        \"max\": 33747720.0,\n        \"num_unique_values\": 8,\n        \"samples\": [\n          571662.074958124,\n          250000.0,\n          19104.0\n        ],\n        \"semantic_type\": \"\",\n        \"description\": \"\"\n      }\n    },\n    {\n      \"column\": \"Quarterly Rating\",\n      \"properties\": {\n        \"dtype\": \"number\",\n        \"std\": 6753.57600547721,\n        \"min\": 1.0,\n        \"max\": 19104.0,\n        \"num_unique_values\": 7,\n        \"samples\": [\n          19104.0,\n          2.008898659966499,\n          3.0\n        ],\n        \"semantic_type\": \"\",\n        \"description\": \"\"\n      }\n    },\n    {\n      \"column\": \"IsChurn\",\n      \"properties\": {\n        \"dtype\": \"number\",\n        \"std\": 6754.215147382837,\n        \"min\": 0.0,\n        \"max\": 19104.0,\n        \"num_unique_values\": 5,\n        \"samples\": [\n          0.08458961474036851,\n          1.0,\n          0.2782773173095197\n        ],\n        \"semantic_type\": \"\",\n        \"description\": \"\"\n      }\n    }\n  ]\n}"
            }
          },
          "metadata": {},
          "execution_count": 10
        }
      ]
    },
    {
      "cell_type": "code",
      "source": [],
      "metadata": {
        "id": "0iAisUAfX_Qq"
      },
      "execution_count": null,
      "outputs": []
    },
    {
      "cell_type": "markdown",
      "source": [
        "### **EDA**"
      ],
      "metadata": {
        "id": "yhacTnU6YIKK"
      }
    },
    {
      "cell_type": "markdown",
      "source": [
        "**Univariate Analysis**"
      ],
      "metadata": {
        "id": "RJkUFjC-wxyp"
      }
    },
    {
      "cell_type": "code",
      "source": [
        "df.dtypes"
      ],
      "metadata": {
        "colab": {
          "base_uri": "https://localhost:8080/"
        },
        "id": "rutzCutjYR5B",
        "outputId": "778d8f4e-15b8-4481-edd0-ac9f0ce981d5"
      },
      "execution_count": null,
      "outputs": [
        {
          "output_type": "execute_result",
          "data": {
            "text/plain": [
              "MMM-YY                   object\n",
              "Driver_ID                 int64\n",
              "Age                     float64\n",
              "Gender                  float64\n",
              "City                     object\n",
              "Education_Level           int64\n",
              "Income                    int64\n",
              "Dateofjoining            object\n",
              "Joining Designation       int64\n",
              "Grade                     int64\n",
              "Total Business Value      int64\n",
              "Quarterly Rating          int64\n",
              "IsChurn                   int64\n",
              "dtype: object"
            ]
          },
          "metadata": {},
          "execution_count": 11
        }
      ]
    },
    {
      "cell_type": "code",
      "source": [
        "sns.displot(df['Age'],kde=True)"
      ],
      "metadata": {
        "colab": {
          "base_uri": "https://localhost:8080/",
          "height": 524
        },
        "id": "vGChYWnRbR8A",
        "outputId": "fc3ddcee-c520-4b89-e1d2-75af0f34f1b4"
      },
      "execution_count": null,
      "outputs": [
        {
          "output_type": "execute_result",
          "data": {
            "text/plain": [
              "<seaborn.axisgrid.FacetGrid at 0x7a0a9ddb40d0>"
            ]
          },
          "metadata": {},
          "execution_count": 101
        },
        {
          "output_type": "display_data",
          "data": {
            "text/plain": [
              "<Figure size 500x500 with 1 Axes>"
            ],
            "image/png": "[encoded data removed]"
          },
          "metadata": {}
        }
      ]
    },
    {
      "cell_type": "markdown",
      "source": [
        "**Observation:** Looks like Normal Distribution"
      ],
      "metadata": {
        "id": "tcLk6dv-xhPc"
      }
    },
    {
      "cell_type": "code",
      "source": [
        "sns.displot(df['Income'],kde=True)"
      ],
      "metadata": {
        "colab": {
          "base_uri": "https://localhost:8080/",
          "height": 524
        },
        "id": "AV-H13HbjkTR",
        "outputId": "eca3eaae-db45-484a-fb1b-d287703b1099"
      },
      "execution_count": null,
      "outputs": [
        {
          "output_type": "execute_result",
          "data": {
            "text/plain": [
              "<seaborn.axisgrid.FacetGrid at 0x7a0a9f9b69b0>"
            ]
          },
          "metadata": {},
          "execution_count": 102
        },
        {
          "output_type": "display_data",
          "data": {
            "text/plain": [
              "<Figure size 500x500 with 1 Axes>"
            ],
            "image/png": "[encoded data removed]"
          },
          "metadata": {}
        }
      ]
    },
    {
      "cell_type": "markdown",
      "source": [
        "**Observation:** Looks like right skewed normal Distribution"
      ],
      "metadata": {
        "id": "dkZ40ABUxpf9"
      }
    },
    {
      "cell_type": "code",
      "source": [
        "sns.displot(df['Total Business Value'],kde=True)"
      ],
      "metadata": {
        "colab": {
          "base_uri": "https://localhost:8080/",
          "height": 524
        },
        "id": "A1x0H_oxvy2T",
        "outputId": "64e4e8bc-9670-4152-ff8a-fa55c5087cbc"
      },
      "execution_count": null,
      "outputs": [
        {
          "output_type": "execute_result",
          "data": {
            "text/plain": [
              "<seaborn.axisgrid.FacetGrid at 0x7a0a9def2ad0>"
            ]
          },
          "metadata": {},
          "execution_count": 103
        },
        {
          "output_type": "display_data",
          "data": {
            "text/plain": [
              "<Figure size 500x500 with 1 Axes>"
            ],
            "image/png": "[encoded data removed]"
          },
          "metadata": {}
        }
      ]
    },
    {
      "cell_type": "markdown",
      "source": [
        "**Observation**\n",
        "\n",
        "most of the times Bussiness value is Zero."
      ],
      "metadata": {
        "id": "wf-zLnpex0Nf"
      }
    },
    {
      "cell_type": "code",
      "source": [
        "sns.displot(df['Quarterly Rating'])"
      ],
      "metadata": {
        "colab": {
          "base_uri": "https://localhost:8080/",
          "height": 525
        },
        "id": "1pWCnPktwGXf",
        "outputId": "458cc4a5-02db-4b92-a265-d2716fe1ef8a"
      },
      "execution_count": null,
      "outputs": [
        {
          "output_type": "execute_result",
          "data": {
            "text/plain": [
              "<seaborn.axisgrid.FacetGrid at 0x7a0a9def34f0>"
            ]
          },
          "metadata": {},
          "execution_count": 104
        },
        {
          "output_type": "display_data",
          "data": {
            "text/plain": [
              "<Figure size 500x500 with 1 Axes>"
            ],
            "image/png": "[encoded data removed]"
          },
          "metadata": {}
        }
      ]
    },
    {
      "cell_type": "markdown",
      "source": [
        "**observation:**\n",
        "\n",
        "there are more low rated drivers than high rated"
      ],
      "metadata": {
        "id": "879pKWsSzEHw"
      }
    },
    {
      "cell_type": "code",
      "source": [
        "df['Education_Level'].value_counts()"
      ],
      "metadata": {
        "colab": {
          "base_uri": "https://localhost:8080/"
        },
        "id": "lsqSwXqRzXwH",
        "outputId": "a7c3373b-3c86-4633-e842-ffb46c6be251"
      },
      "execution_count": null,
      "outputs": [
        {
          "output_type": "execute_result",
          "data": {
            "text/plain": [
              "1    6864\n",
              "2    6327\n",
              "0    5913\n",
              "Name: Education_Level, dtype: int64"
            ]
          },
          "metadata": {},
          "execution_count": 15
        }
      ]
    },
    {
      "cell_type": "code",
      "source": [
        "names = ['Gender',\t'Education_Level'\t,\t'Joining Designation'\t  , 'Grade']\n",
        "\n",
        "for col in names:\n",
        "  sns.displot(df[col])\n"
      ],
      "metadata": {
        "colab": {
          "base_uri": "https://localhost:8080/",
          "height": 1000
        },
        "id": "eqwkSo6Uww3d",
        "outputId": "b9bd542c-8d4e-4c5c-8153-bc47a5d816db"
      },
      "execution_count": null,
      "outputs": [
        {
          "output_type": "display_data",
          "data": {
            "text/plain": [
              "<Figure size 500x500 with 1 Axes>"
            ],
            "image/png": "[encoded data removed]"
          },
          "metadata": {}
        },
        {
          "output_type": "display_data",
          "data": {
            "text/plain": [
              "<Figure size 500x500 with 1 Axes>"
            ],
            "image/png": "[encoded data removed]"
          },
          "metadata": {}
        },
        {
          "output_type": "display_data",
          "data": {
            "text/plain": [
              "<Figure size 500x500 with 1 Axes>"
            ],
            "image/png": "[encoded data removed]"
          },
          "metadata": {}
        },
        {
          "output_type": "display_data",
          "data": {
            "text/plain": [
              "<Figure size 500x500 with 1 Axes>"
            ],
            "image/png": "[encoded data removed]"
          },
          "metadata": {}
        }
      ]
    },
    {
      "cell_type": "code",
      "source": [
        "sns.displot(df['IsChurn'])"
      ],
      "metadata": {
        "id": "Qru2bPMsww0H",
        "colab": {
          "base_uri": "https://localhost:8080/",
          "height": 524
        },
        "outputId": "2b313d4c-5642-4e98-be9f-785a9d34d6f5"
      },
      "execution_count": null,
      "outputs": [
        {
          "output_type": "execute_result",
          "data": {
            "text/plain": [
              "<seaborn.axisgrid.FacetGrid at 0x7a0a9cb4e560>"
            ]
          },
          "metadata": {},
          "execution_count": 106
        },
        {
          "output_type": "display_data",
          "data": {
            "text/plain": [
              "<Figure size 500x500 with 1 Axes>"
            ],
            "image/png": "[encoded data removed]"
          },
          "metadata": {}
        }
      ]
    },
    {
      "cell_type": "markdown",
      "source": [
        "**Observation:**\n",
        "\n",
        "there is High imbalance in classes"
      ],
      "metadata": {
        "id": "HZtG66M9zskd"
      }
    },
    {
      "cell_type": "code",
      "source": [
        "df.select_dtypes(exclude='object')"
      ],
      "metadata": {
        "colab": {
          "base_uri": "https://localhost:8080/",
          "height": 423
        },
        "id": "xlmmBQJJ2kKC",
        "outputId": "8da7a53c-7c9b-477b-effd-0b7a76708e22"
      },
      "execution_count": null,
      "outputs": [
        {
          "output_type": "execute_result",
          "data": {
            "text/plain": [
              "       Driver_ID   Age  Gender  Education_Level  Income  Joining Designation  \\\n",
              "0              1  28.0     0.0                2   57387                    1   \n",
              "1              1  28.0     0.0                2   57387                    1   \n",
              "2              1  28.0     0.0                2   57387                    1   \n",
              "3              2  31.0     0.0                2   67016                    2   \n",
              "4              2  31.0     0.0                2   67016                    2   \n",
              "...          ...   ...     ...              ...     ...                  ...   \n",
              "19099       2788  30.0     0.0                2   70254                    2   \n",
              "19100       2788  30.0     0.0                2   70254                    2   \n",
              "19101       2788  30.0     0.0                2   70254                    2   \n",
              "19102       2788  30.0     0.0                2   70254                    2   \n",
              "19103       2788  30.0     0.0                2   70254                    2   \n",
              "\n",
              "       Grade  Total Business Value  Quarterly Rating  IsChurn  \n",
              "0          1               2381060                 2        0  \n",
              "1          1               -665480                 2        0  \n",
              "2          1                     0                 2        1  \n",
              "3          2                     0                 1        0  \n",
              "4          2                     0                 1        0  \n",
              "...      ...                   ...               ...      ...  \n",
              "19099      2                740280                 3        0  \n",
              "19100      2                448370                 3        0  \n",
              "19101      2                     0                 2        0  \n",
              "19102      2                200420                 2        0  \n",
              "19103      2                411480                 2        0  \n",
              "\n",
              "[19104 rows x 10 columns]"
            ],
            "text/html": [
              "\n",
              "  <div id=\"df-13be2f12-d2c8-42cd-94f1-88a34f817cb8\" class=\"colab-df-container\">\n",
              "    <div>\n",
              "<style scoped>\n",
              "    .dataframe tbody tr th:only-of-type {\n",
              "        vertical-align: middle;\n",
              "    }\n",
              "\n",
              "    .dataframe tbody tr th {\n",
              "        vertical-align: top;\n",
              "    }\n",
              "\n",
              "    .dataframe thead th {\n",
              "        text-align: right;\n",
              "    }\n",
              "</style>\n",
              "<table border=\"1\" class=\"dataframe\">\n",
              "  <thead>\n",
              "    <tr style=\"text-align: right;\">\n",
              "      <th></th>\n",
              "      <th>Driver_ID</th>\n",
              "      <th>Age</th>\n",
              "      <th>Gender</th>\n",
              "      <th>Education_Level</th>\n",
              "      <th>Income</th>\n",
              "      <th>Joining Designation</th>\n",
              "      <th>Grade</th>\n",
              "      <th>Total Business Value</th>\n",
              "      <th>Quarterly Rating</th>\n",
              "      <th>IsChurn</th>\n",
              "    </tr>\n",
              "  </thead>\n",
              "  <tbody>\n",
              "    <tr>\n",
              "      <th>0</th>\n",
              "      <td>1</td>\n",
              "      <td>28.0</td>\n",
              "      <td>0.0</td>\n",
              "      <td>2</td>\n",
              "      <td>57387</td>\n",
              "      <td>1</td>\n",
              "      <td>1</td>\n",
              "      <td>2381060</td>\n",
              "      <td>2</td>\n",
              "      <td>0</td>\n",
              "    </tr>\n",
              "    <tr>\n",
              "      <th>1</th>\n",
              "      <td>1</td>\n",
              "      <td>28.0</td>\n",
              "      <td>0.0</td>\n",
              "      <td>2</td>\n",
              "      <td>57387</td>\n",
              "      <td>1</td>\n",
              "      <td>1</td>\n",
              "      <td>-665480</td>\n",
              "      <td>2</td>\n",
              "      <td>0</td>\n",
              "    </tr>\n",
              "    <tr>\n",
              "      <th>2</th>\n",
              "      <td>1</td>\n",
              "      <td>28.0</td>\n",
              "      <td>0.0</td>\n",
              "      <td>2</td>\n",
              "      <td>57387</td>\n",
              "      <td>1</td>\n",
              "      <td>1</td>\n",
              "      <td>0</td>\n",
              "      <td>2</td>\n",
              "      <td>1</td>\n",
              "    </tr>\n",
              "    <tr>\n",
              "      <th>3</th>\n",
              "      <td>2</td>\n",
              "      <td>31.0</td>\n",
              "      <td>0.0</td>\n",
              "      <td>2</td>\n",
              "      <td>67016</td>\n",
              "      <td>2</td>\n",
              "      <td>2</td>\n",
              "      <td>0</td>\n",
              "      <td>1</td>\n",
              "      <td>0</td>\n",
              "    </tr>\n",
              "    <tr>\n",
              "      <th>4</th>\n",
              "      <td>2</td>\n",
              "      <td>31.0</td>\n",
              "      <td>0.0</td>\n",
              "      <td>2</td>\n",
              "      <td>67016</td>\n",
              "      <td>2</td>\n",
              "      <td>2</td>\n",
              "      <td>0</td>\n",
              "      <td>1</td>\n",
              "      <td>0</td>\n",
              "    </tr>\n",
              "    <tr>\n",
              "      <th>...</th>\n",
              "      <td>...</td>\n",
              "      <td>...</td>\n",
              "      <td>...</td>\n",
              "      <td>...</td>\n",
              "      <td>...</td>\n",
              "      <td>...</td>\n",
              "      <td>...</td>\n",
              "      <td>...</td>\n",
              "      <td>...</td>\n",
              "      <td>...</td>\n",
              "    </tr>\n",
              "    <tr>\n",
              "      <th>19099</th>\n",
              "      <td>2788</td>\n",
              "      <td>30.0</td>\n",
              "      <td>0.0</td>\n",
              "      <td>2</td>\n",
              "      <td>70254</td>\n",
              "      <td>2</td>\n",
              "      <td>2</td>\n",
              "      <td>740280</td>\n",
              "      <td>3</td>\n",
              "      <td>0</td>\n",
              "    </tr>\n",
              "    <tr>\n",
              "      <th>19100</th>\n",
              "      <td>2788</td>\n",
              "      <td>30.0</td>\n",
              "      <td>0.0</td>\n",
              "      <td>2</td>\n",
              "      <td>70254</td>\n",
              "      <td>2</td>\n",
              "      <td>2</td>\n",
              "      <td>448370</td>\n",
              "      <td>3</td>\n",
              "      <td>0</td>\n",
              "    </tr>\n",
              "    <tr>\n",
              "      <th>19101</th>\n",
              "      <td>2788</td>\n",
              "      <td>30.0</td>\n",
              "      <td>0.0</td>\n",
              "      <td>2</td>\n",
              "      <td>70254</td>\n",
              "      <td>2</td>\n",
              "      <td>2</td>\n",
              "      <td>0</td>\n",
              "      <td>2</td>\n",
              "      <td>0</td>\n",
              "    </tr>\n",
              "    <tr>\n",
              "      <th>19102</th>\n",
              "      <td>2788</td>\n",
              "      <td>30.0</td>\n",
              "      <td>0.0</td>\n",
              "      <td>2</td>\n",
              "      <td>70254</td>\n",
              "      <td>2</td>\n",
              "      <td>2</td>\n",
              "      <td>200420</td>\n",
              "      <td>2</td>\n",
              "      <td>0</td>\n",
              "    </tr>\n",
              "    <tr>\n",
              "      <th>19103</th>\n",
              "      <td>2788</td>\n",
              "      <td>30.0</td>\n",
              "      <td>0.0</td>\n",
              "      <td>2</td>\n",
              "      <td>70254</td>\n",
              "      <td>2</td>\n",
              "      <td>2</td>\n",
              "      <td>411480</td>\n",
              "      <td>2</td>\n",
              "      <td>0</td>\n",
              "    </tr>\n",
              "  </tbody>\n",
              "</table>\n",
              "<p>19104 rows × 10 columns</p>\n",
              "</div>\n",
              "    <div class=\"colab-df-buttons\">\n",
              "\n",
              "  <div class=\"colab-df-container\">\n",
              "    <button class=\"colab-df-convert\" onclick=\"convertToInteractive('df-13be2f12-d2c8-42cd-94f1-88a34f817cb8')\"\n",
              "            title=\"Convert this dataframe to an interactive table.\"\n",
              "            style=\"display:none;\">\n",
              "\n",
              "  <svg xmlns=\"http://www.w3.org/2000/svg\" height=\"24px\" viewBox=\"0 -960 960 960\">\n",
              "    <path d=\"M120-120v-720h720v720H120Zm60-500h600v-160H180v160Zm220 220h160v-160H400v160Zm0 220h160v-160H400v160ZM180-400h160v-160H180v160Zm440 0h160v-160H620v160ZM180-180h160v-160H180v160Zm440 0h160v-160H620v160Z\"/>\n",
              "  </svg>\n",
              "    </button>\n",
              "\n",
              "  <style>\n",
              "    .colab-df-container {\n",
              "      display:flex;\n",
              "      gap: 12px;\n",
              "    }\n",
              "\n",
              "    .colab-df-convert {\n",
              "      background-color: #E8F0FE;\n",
              "      border: none;\n",
              "      border-radius: 50%;\n",
              "      cursor: pointer;\n",
              "      display: none;\n",
              "      fill: #1967D2;\n",
              "      height: 32px;\n",
              "      padding: 0 0 0 0;\n",
              "      width: 32px;\n",
              "    }\n",
              "\n",
              "    .colab-df-convert:hover {\n",
              "      background-color: #E2EBFA;\n",
              "      box-shadow: 0px 1px 2px rgba(60, 64, 67, 0.3), 0px 1px 3px 1px rgba(60, 64, 67, 0.15);\n",
              "      fill: #174EA6;\n",
              "    }\n",
              "\n",
              "    .colab-df-buttons div {\n",
              "      margin-bottom: 4px;\n",
              "    }\n",
              "\n",
              "    [theme=dark] .colab-df-convert {\n",
              "      background-color: #3B4455;\n",
              "      fill: #D2E3FC;\n",
              "    }\n",
              "\n",
              "    [theme=dark] .colab-df-convert:hover {\n",
              "      background-color: #434B5C;\n",
              "      box-shadow: 0px 1px 3px 1px rgba(0, 0, 0, 0.15);\n",
              "      filter: drop-shadow(0px 1px 2px rgba(0, 0, 0, 0.3));\n",
              "      fill: #FFFFFF;\n",
              "    }\n",
              "  </style>\n",
              "\n",
              "    <script>\n",
              "      const buttonEl =\n",
              "        document.querySelector('#df-13be2f12-d2c8-42cd-94f1-88a34f817cb8 button.colab-df-convert');\n",
              "      buttonEl.style.display =\n",
              "        google.colab.kernel.accessAllowed ? 'block' : 'none';\n",
              "\n",
              "      async function convertToInteractive(key) {\n",
              "        const element = document.querySelector('#df-13be2f12-d2c8-42cd-94f1-88a34f817cb8');\n",
              "        const dataTable =\n",
              "          await google.colab.kernel.invokeFunction('convertToInteractive',\n",
              "                                                    [key], {});\n",
              "        if (!dataTable) return;\n",
              "\n",
              "        const docLinkHtml = 'Like what you see? Visit the ' +\n",
              "          '<a target=\"_blank\" href=https://colab.research.google.com/notebooks/data_table.ipynb>data table notebook</a>'\n",
              "          + ' to learn more about interactive tables.';\n",
              "        element.innerHTML = '';\n",
              "        dataTable['output_type'] = 'display_data';\n",
              "        await google.colab.output.renderOutput(dataTable, element);\n",
              "        const docLink = document.createElement('div');\n",
              "        docLink.innerHTML = docLinkHtml;\n",
              "        element.appendChild(docLink);\n",
              "      }\n",
              "    </script>\n",
              "  </div>\n",
              "\n",
              "\n",
              "<div id=\"df-b5353beb-a1db-4998-9309-1a8b331eece7\">\n",
              "  <button class=\"colab-df-quickchart\" onclick=\"quickchart('df-b5353beb-a1db-4998-9309-1a8b331eece7')\"\n",
              "            title=\"Suggest charts\"\n",
              "            style=\"display:none;\">\n",
              "\n",
              "<svg xmlns=\"http://www.w3.org/2000/svg\" height=\"24px\"viewBox=\"0 0 24 24\"\n",
              "     width=\"24px\">\n",
              "    <g>\n",
              "        <path d=\"M19 3H5c-1.1 0-2 .9-2 2v14c0 1.1.9 2 2 2h14c1.1 0 2-.9 2-2V5c0-1.1-.9-2-2-2zM9 17H7v-7h2v7zm4 0h-2V7h2v10zm4 0h-2v-4h2v4z\"/>\n",
              "    </g>\n",
              "</svg>\n",
              "  </button>\n",
              "\n",
              "<style>\n",
              "  .colab-df-quickchart {\n",
              "      --bg-color: #E8F0FE;\n",
              "      --fill-color: #1967D2;\n",
              "      --hover-bg-color: #E2EBFA;\n",
              "      --hover-fill-color: #174EA6;\n",
              "      --disabled-fill-color: #AAA;\n",
              "      --disabled-bg-color: #DDD;\n",
              "  }\n",
              "\n",
              "  [theme=dark] .colab-df-quickchart {\n",
              "      --bg-color: #3B4455;\n",
              "      --fill-color: #D2E3FC;\n",
              "      --hover-bg-color: #434B5C;\n",
              "      --hover-fill-color: #FFFFFF;\n",
              "      --disabled-bg-color: #3B4455;\n",
              "      --disabled-fill-color: #666;\n",
              "  }\n",
              "\n",
              "  .colab-df-quickchart {\n",
              "    background-color: var(--bg-color);\n",
              "    border: none;\n",
              "    border-radius: 50%;\n",
              "    cursor: pointer;\n",
              "    display: none;\n",
              "    fill: var(--fill-color);\n",
              "    height: 32px;\n",
              "    padding: 0;\n",
              "    width: 32px;\n",
              "  }\n",
              "\n",
              "  .colab-df-quickchart:hover {\n",
              "    background-color: var(--hover-bg-color);\n",
              "    box-shadow: 0 1px 2px rgba(60, 64, 67, 0.3), 0 1px 3px 1px rgba(60, 64, 67, 0.15);\n",
              "    fill: var(--button-hover-fill-color);\n",
              "  }\n",
              "\n",
              "  .colab-df-quickchart-complete:disabled,\n",
              "  .colab-df-quickchart-complete:disabled:hover {\n",
              "    background-color: var(--disabled-bg-color);\n",
              "    fill: var(--disabled-fill-color);\n",
              "    box-shadow: none;\n",
              "  }\n",
              "\n",
              "  .colab-df-spinner {\n",
              "    border: 2px solid var(--fill-color);\n",
              "    border-color: transparent;\n",
              "    border-bottom-color: var(--fill-color);\n",
              "    animation:\n",
              "      spin 1s steps(1) infinite;\n",
              "  }\n",
              "\n",
              "  @keyframes spin {\n",
              "    0% {\n",
              "      border-color: transparent;\n",
              "      border-bottom-color: var(--fill-color);\n",
              "      border-left-color: var(--fill-color);\n",
              "    }\n",
              "    20% {\n",
              "      border-color: transparent;\n",
              "      border-left-color: var(--fill-color);\n",
              "      border-top-color: var(--fill-color);\n",
              "    }\n",
              "    30% {\n",
              "      border-color: transparent;\n",
              "      border-left-color: var(--fill-color);\n",
              "      border-top-color: var(--fill-color);\n",
              "      border-right-color: var(--fill-color);\n",
              "    }\n",
              "    40% {\n",
              "      border-color: transparent;\n",
              "      border-right-color: var(--fill-color);\n",
              "      border-top-color: var(--fill-color);\n",
              "    }\n",
              "    60% {\n",
              "      border-color: transparent;\n",
              "      border-right-color: var(--fill-color);\n",
              "    }\n",
              "    80% {\n",
              "      border-color: transparent;\n",
              "      border-right-color: var(--fill-color);\n",
              "      border-bottom-color: var(--fill-color);\n",
              "    }\n",
              "    90% {\n",
              "      border-color: transparent;\n",
              "      border-bottom-color: var(--fill-color);\n",
              "    }\n",
              "  }\n",
              "</style>\n",
              "\n",
              "  <script>\n",
              "    async function quickchart(key) {\n",
              "      const quickchartButtonEl =\n",
              "        document.querySelector('#' + key + ' button');\n",
              "      quickchartButtonEl.disabled = true;  // To prevent multiple clicks.\n",
              "      quickchartButtonEl.classList.add('colab-df-spinner');\n",
              "      try {\n",
              "        const charts = await google.colab.kernel.invokeFunction(\n",
              "            'suggestCharts', [key], {});\n",
              "      } catch (error) {\n",
              "        console.error('Error during call to suggestCharts:', error);\n",
              "      }\n",
              "      quickchartButtonEl.classList.remove('colab-df-spinner');\n",
              "      quickchartButtonEl.classList.add('colab-df-quickchart-complete');\n",
              "    }\n",
              "    (() => {\n",
              "      let quickchartButtonEl =\n",
              "        document.querySelector('#df-b5353beb-a1db-4998-9309-1a8b331eece7 button');\n",
              "      quickchartButtonEl.style.display =\n",
              "        google.colab.kernel.accessAllowed ? 'block' : 'none';\n",
              "    })();\n",
              "  </script>\n",
              "</div>\n",
              "\n",
              "    </div>\n",
              "  </div>\n"
            ],
            "application/vnd.google.colaboratory.intrinsic+json": {
              "type": "dataframe",
              "summary": "{\n  \"name\": \"df\",\n  \"rows\": 19104,\n  \"fields\": [\n    {\n      \"column\": \"Driver_ID\",\n      \"properties\": {\n        \"dtype\": \"number\",\n        \"std\": 810,\n        \"min\": 1,\n        \"max\": 2788,\n        \"num_unique_values\": 2381,\n        \"samples\": [\n          1663,\n          1264,\n          1618\n        ],\n        \"semantic_type\": \"\",\n        \"description\": \"\"\n      }\n    },\n    {\n      \"column\": \"Age\",\n      \"properties\": {\n        \"dtype\": \"number\",\n        \"std\": 6.257911686190604,\n        \"min\": 21.0,\n        \"max\": 58.0,\n        \"num_unique_values\": 36,\n        \"samples\": [\n          58.0,\n          41.0,\n          24.0\n        ],\n        \"semantic_type\": \"\",\n        \"description\": \"\"\n      }\n    },\n    {\n      \"column\": \"Gender\",\n      \"properties\": {\n        \"dtype\": \"number\",\n        \"std\": 0.49336700376604115,\n        \"min\": 0.0,\n        \"max\": 1.0,\n        \"num_unique_values\": 2,\n        \"samples\": [\n          1.0,\n          0.0\n        ],\n        \"semantic_type\": \"\",\n        \"description\": \"\"\n      }\n    },\n    {\n      \"column\": \"Education_Level\",\n      \"properties\": {\n        \"dtype\": \"number\",\n        \"std\": 0,\n        \"min\": 0,\n        \"max\": 2,\n        \"num_unique_values\": 3,\n        \"samples\": [\n          2,\n          0\n        ],\n        \"semantic_type\": \"\",\n        \"description\": \"\"\n      }\n    },\n    {\n      \"column\": \"Income\",\n      \"properties\": {\n        \"dtype\": \"number\",\n        \"std\": 30914,\n        \"min\": 10747,\n        \"max\": 188418,\n        \"num_unique_values\": 2383,\n        \"samples\": [\n          44273,\n          35370\n        ],\n        \"semantic_type\": \"\",\n        \"description\": \"\"\n      }\n    },\n    {\n      \"column\": \"Joining Designation\",\n      \"properties\": {\n        \"dtype\": \"number\",\n        \"std\": 0,\n        \"min\": 1,\n        \"max\": 5,\n        \"num_unique_values\": 5,\n        \"samples\": [\n          2,\n          5\n        ],\n        \"semantic_type\": \"\",\n        \"description\": \"\"\n      }\n    },\n    {\n      \"column\": \"Grade\",\n      \"properties\": {\n        \"dtype\": \"number\",\n        \"std\": 1,\n        \"min\": 1,\n        \"max\": 5,\n        \"num_unique_values\": 5,\n        \"samples\": [\n          2,\n          5\n        ],\n        \"semantic_type\": \"\",\n        \"description\": \"\"\n      }\n    },\n    {\n      \"column\": \"Total Business Value\",\n      \"properties\": {\n        \"dtype\": \"number\",\n        \"std\": 1128312,\n        \"min\": -6000000,\n        \"max\": 33747720,\n        \"num_unique_values\": 10181,\n        \"samples\": [\n          431090,\n          720180\n        ],\n        \"semantic_type\": \"\",\n        \"description\": \"\"\n      }\n    },\n    {\n      \"column\": \"Quarterly Rating\",\n      \"properties\": {\n        \"dtype\": \"number\",\n        \"std\": 1,\n        \"min\": 1,\n        \"max\": 4,\n        \"num_unique_values\": 4,\n        \"samples\": [\n          1,\n          3\n        ],\n        \"semantic_type\": \"\",\n        \"description\": \"\"\n      }\n    },\n    {\n      \"column\": \"IsChurn\",\n      \"properties\": {\n        \"dtype\": \"number\",\n        \"std\": 0,\n        \"min\": 0,\n        \"max\": 1,\n        \"num_unique_values\": 2,\n        \"samples\": [\n          1,\n          0\n        ],\n        \"semantic_type\": \"\",\n        \"description\": \"\"\n      }\n    }\n  ]\n}"
            }
          },
          "metadata": {},
          "execution_count": 16
        }
      ]
    },
    {
      "cell_type": "markdown",
      "source": [],
      "metadata": {
        "id": "N4TDf-fM2k3n"
      }
    },
    {
      "cell_type": "code",
      "source": [
        "for i,col in enumerate(['Age',\"Income\",\"Total Business Value\"]):\n",
        "  plt.subplot(4,2,i+1)\n",
        "  sns.boxplot(df[col])\n",
        "  plt.tight_layout()"
      ],
      "metadata": {
        "colab": {
          "base_uri": "https://localhost:8080/",
          "height": 248
        },
        "id": "-0FXdy-I2kGi",
        "outputId": "46b660cb-dbaf-42dc-8960-d92425d92ee7"
      },
      "execution_count": null,
      "outputs": [
        {
          "output_type": "display_data",
          "data": {
            "text/plain": [
              "<Figure size 640x480 with 3 Axes>"
            ],
            "image/png": "[encoded data removed]"
          },
          "metadata": {}
        }
      ]
    },
    {
      "cell_type": "code",
      "source": [
        "def calculate_outlier_percentage(data, feature, threshold=1.5):\n",
        "\n",
        "  feature_data = data[feature]\n",
        "  # Calculate the first and third quartiles (Q1 and Q3) for the feature\n",
        "  Q1 = np.percentile(feature_data, 25)\n",
        "  Q3 = np.percentile(feature_data, 75)\n",
        "  # Calculate the IQR (Interquartile Range) for the feature\n",
        "  IQR = Q3 - Q1\n",
        "  # Define the lower and upper bounds for outlier detection for the feature\n",
        "  lower_bound = Q1 - threshold * IQR\n",
        "  upper_bound = Q3 + threshold * IQR\n",
        "  # Identify outlier indices for the feature\n",
        "  outlier_indices = np.where((feature_data < lower_bound) | (feature_data > upper_bound))\n",
        "  # Calculate the percentage of outliers\n",
        "  outlier_percentage = (len(outlier_indices[0]) / len(feature_data)) * 100\n",
        "  return outlier_percentage\n",
        "\n",
        "\n",
        "feature_index = 4 # Index of the feature (column) to analyze\n",
        "threshold = 1.5\n",
        "\n",
        "for feature in (['Age',\"Income\",\"Total Business Value\"]):\n",
        "\n",
        "    outlier_percentage = calculate_outlier_percentage(df, feature, threshold)\n",
        "    print(f\"Percentage of outliers in feature {feature}: {outlier_percentage:.2f}%\")\n",
        "\n"
      ],
      "metadata": {
        "colab": {
          "base_uri": "https://localhost:8080/"
        },
        "id": "FsCzMSbX5bfd",
        "outputId": "01561c4b-fc61-4f09-fdc1-420e51dfa02e"
      },
      "execution_count": null,
      "outputs": [
        {
          "output_type": "stream",
          "name": "stdout",
          "text": [
            "Percentage of outliers in feature Age: 0.00%\n",
            "Percentage of outliers in feature Income: 0.98%\n",
            "Percentage of outliers in feature Total Business Value: 7.18%\n"
          ]
        }
      ]
    },
    {
      "cell_type": "markdown",
      "source": [
        "there is outliers which are in Age,Income are ignorable and Total Business value is having 7% of outliers"
      ],
      "metadata": {
        "id": "SRT9-BPz7Kz7"
      }
    },
    {
      "cell_type": "code",
      "source": [],
      "metadata": {
        "id": "Sqe2MSlz8CCb"
      },
      "execution_count": null,
      "outputs": []
    },
    {
      "cell_type": "code",
      "source": [],
      "metadata": {
        "id": "ptGGx84N8B07"
      },
      "execution_count": null,
      "outputs": []
    },
    {
      "cell_type": "markdown",
      "source": [
        "**Bivariate Analysis**"
      ],
      "metadata": {
        "id": "KEHeVuj90of4"
      }
    },
    {
      "cell_type": "code",
      "source": [
        "# Compute Pearson correlation coefficient\n",
        "pearson_corr = df.corr()\n",
        "\n",
        "# Create heatmap\n",
        "plt.figure(figsize=(8, 6))\n",
        "sns.heatmap(pearson_corr, annot=True, cmap='coolwarm', fmt=\".2f\", linewidths=.5)\n",
        "plt.title('Pearson Correlation Heatmap')\n",
        "plt.show()\n"
      ],
      "metadata": {
        "colab": {
          "base_uri": "https://localhost:8080/",
          "height": 728
        },
        "id": "QXLxMZ8N8ZFF",
        "outputId": "55e061a9-199b-45fa-f974-63808199ce5d"
      },
      "execution_count": null,
      "outputs": [
        {
          "output_type": "stream",
          "name": "stderr",
          "text": [
            "<ipython-input-21-dbb09d01d7b9>:2: FutureWarning: The default value of numeric_only in DataFrame.corr is deprecated. In a future version, it will default to False. Select only valid columns or specify the value of numeric_only to silence this warning.\n",
            "  pearson_corr = df.corr()\n"
          ]
        },
        {
          "output_type": "display_data",
          "data": {
            "text/plain": [
              "<Figure size 800x600 with 2 Axes>"
            ],
            "image/png": "[encoded data removed]"
          },
          "metadata": {}
        }
      ]
    },
    {
      "cell_type": "markdown",
      "source": [
        "**Observation:**\n",
        "\n",
        "Income and Grade highly Correlated\n",
        "\n"
      ],
      "metadata": {
        "id": "A7K6VAjFTvHM"
      }
    },
    {
      "cell_type": "code",
      "source": [],
      "metadata": {
        "id": "7iWp6Zbr8ZBg"
      },
      "execution_count": null,
      "outputs": []
    },
    {
      "cell_type": "code",
      "source": [
        "\n",
        "df.isnull().sum()"
      ],
      "metadata": {
        "id": "gPbehPFkwww9",
        "colab": {
          "base_uri": "https://localhost:8080/"
        },
        "outputId": "8f866049-9daa-4b8a-fb8e-a7024784a7b3"
      },
      "execution_count": null,
      "outputs": [
        {
          "output_type": "execute_result",
          "data": {
            "text/plain": [
              "MMM-YY                   0\n",
              "Driver_ID                0\n",
              "Age                     61\n",
              "Gender                  52\n",
              "City                     0\n",
              "Education_Level          0\n",
              "Income                   0\n",
              "Dateofjoining            0\n",
              "Joining Designation      0\n",
              "Grade                    0\n",
              "Total Business Value     0\n",
              "Quarterly Rating         0\n",
              "IsChurn                  0\n",
              "dtype: int64"
            ]
          },
          "metadata": {},
          "execution_count": 107
        }
      ]
    },
    {
      "cell_type": "code",
      "source": [],
      "metadata": {
        "id": "gx-tTgTBwwt7"
      },
      "execution_count": null,
      "outputs": []
    },
    {
      "cell_type": "markdown",
      "source": [
        "### **Feature Engineering**"
      ],
      "metadata": {
        "id": "DMhjDdB1sv1B"
      }
    },
    {
      "cell_type": "markdown",
      "source": [
        "**KNN Imputation**"
      ],
      "metadata": {
        "id": "jSPL1iZvt297"
      }
    },
    {
      "cell_type": "markdown",
      "source": [
        "try to fill null values using knn imputation"
      ],
      "metadata": {
        "id": "KjLdNqTmz6Re"
      }
    },
    {
      "cell_type": "code",
      "source": [
        "df2 = df.dropna()    #  non null values df"
      ],
      "metadata": {
        "id": "txRKTRW1t9sR"
      },
      "execution_count": null,
      "outputs": []
    },
    {
      "cell_type": "code",
      "source": [
        "df3 = df[df.isna().any(axis=1)]  # null values df"
      ],
      "metadata": {
        "id": "Ha50Zklx740d"
      },
      "execution_count": null,
      "outputs": []
    },
    {
      "cell_type": "code",
      "source": [
        "df2 = df2.drop(['MMM-YY',\t'City',\t'Dateofjoining'],axis=1)"
      ],
      "metadata": {
        "id": "kCad7jru20wD"
      },
      "execution_count": null,
      "outputs": []
    },
    {
      "cell_type": "code",
      "source": [
        "X = df2.drop(\"IsChurn\",axis=1)\n",
        "y = df2['IsChurn'].apply(lambda x: 1 if x==1.0 else 0)"
      ],
      "metadata": {
        "id": "AOy7bKhP1t5r"
      },
      "execution_count": null,
      "outputs": []
    },
    {
      "cell_type": "code",
      "source": [
        "y.value_counts()"
      ],
      "metadata": {
        "colab": {
          "base_uri": "https://localhost:8080/"
        },
        "id": "g2oc_OEF3_if",
        "outputId": "e13644e9-236d-4678-ea9e-5d23da988faf"
      },
      "execution_count": null,
      "outputs": [
        {
          "output_type": "execute_result",
          "data": {
            "text/plain": [
              "0    17385\n",
              "1     1606\n",
              "Name: IsChurn, dtype: int64"
            ]
          },
          "metadata": {},
          "execution_count": 114
        }
      ]
    },
    {
      "cell_type": "code",
      "source": [
        "import numpy as np\n",
        "from sklearn.datasets import load_iris\n",
        "from sklearn.impute import KNNImputer\n",
        "from sklearn.model_selection import train_test_split\n",
        "from sklearn.metrics import mean_squared_error\n",
        "\n",
        "# Split data into training and validation sets\n",
        "X_train, X_val, y_train, y_val = train_test_split(X, y, test_size=0.2, random_state=42)\n",
        "\n",
        "# Define a range of k values to test\n",
        "k_values = [1, 3, 5, 7, 9]\n",
        "\n",
        "# Evaluate performance for each k\n",
        "best_k = None\n",
        "best_score = float('inf')  # For MSE, lower is better\n",
        "for k in k_values:\n",
        "    # Create and fit the KNN imputer\n",
        "    imputer = KNNImputer(n_neighbors=k)\n",
        "    X_train_imputed = imputer.fit_transform(X_train)\n",
        "\n",
        "    # Evaluate the imputer on validation set\n",
        "    X_val_imputed = imputer.transform(X_val)\n",
        "    score = mean_squared_error(X_val, X_val_imputed)\n",
        "\n",
        "    # Update best_k if this 'k' performs better\n",
        "    if score < best_score:\n",
        "        best_score = score\n",
        "        best_k = k\n",
        "\n",
        "print(\"Best k:\", best_k)\n"
      ],
      "metadata": {
        "colab": {
          "base_uri": "https://localhost:8080/"
        },
        "id": "OdF6jaS4bI4u",
        "outputId": "5893dc31-ef5c-4096-88eb-095fc80aabf8"
      },
      "execution_count": null,
      "outputs": [
        {
          "output_type": "stream",
          "name": "stdout",
          "text": [
            "Best k: 1\n"
          ]
        }
      ]
    },
    {
      "cell_type": "code",
      "source": [
        "imputer.transform(X_val)\n"
      ],
      "metadata": {
        "colab": {
          "base_uri": "https://localhost:8080/"
        },
        "id": "_9bXGZrC5RMU",
        "outputId": "dbfc070d-116f-4e20-f2a1-28793865ee73"
      },
      "execution_count": null,
      "outputs": [
        {
          "output_type": "execute_result",
          "data": {
            "text/plain": [
              "array([[1.30000e+01, 3.00000e+01, 0.00000e+00, ..., 4.00000e+00,\n",
              "        1.59359e+06, 1.00000e+00],\n",
              "       [1.28500e+03, 3.10000e+01, 0.00000e+00, ..., 2.00000e+00,\n",
              "        2.61940e+05, 2.00000e+00],\n",
              "       [2.02800e+03, 4.00000e+01, 1.00000e+00, ..., 2.00000e+00,\n",
              "        1.42930e+06, 4.00000e+00],\n",
              "       ...,\n",
              "       [2.58200e+03, 4.50000e+01, 0.00000e+00, ..., 1.00000e+00,\n",
              "        3.00830e+05, 2.00000e+00],\n",
              "       [3.12000e+02, 3.40000e+01, 0.00000e+00, ..., 2.00000e+00,\n",
              "        0.00000e+00, 1.00000e+00],\n",
              "       [2.40800e+03, 4.20000e+01, 0.00000e+00, ..., 4.00000e+00,\n",
              "        9.12790e+05, 1.00000e+00]])"
            ]
          },
          "metadata": {},
          "execution_count": 119
        }
      ]
    },
    {
      "cell_type": "code",
      "source": [
        "imputed_data = imputer.transform(df3.drop(['City' ,'Dateofjoining','MMM-YY',\"IsChurn\"],axis=1))"
      ],
      "metadata": {
        "id": "H4I-locp6U53"
      },
      "execution_count": null,
      "outputs": []
    },
    {
      "cell_type": "code",
      "source": [
        "df2['Gender']"
      ],
      "metadata": {
        "id": "MsQabsMecVOl",
        "colab": {
          "base_uri": "https://localhost:8080/"
        },
        "outputId": "6983cadf-a926-4395-e9ba-628ec1a7166c"
      },
      "execution_count": null,
      "outputs": [
        {
          "output_type": "execute_result",
          "data": {
            "text/plain": [
              "0        0\n",
              "1        0\n",
              "2        0\n",
              "3        0\n",
              "4        0\n",
              "        ..\n",
              "19099    0\n",
              "19100    0\n",
              "19101    0\n",
              "19102    0\n",
              "19103    0\n",
              "Name: Gender, Length: 18991, dtype: int64"
            ]
          },
          "metadata": {},
          "execution_count": 121
        }
      ]
    },
    {
      "cell_type": "code",
      "source": [
        "imputer.get_feature_names_out()"
      ],
      "metadata": {
        "colab": {
          "base_uri": "https://localhost:8080/"
        },
        "id": "nb3Zck0beyae",
        "outputId": "48b50864-28d6-4ab7-cf7c-80e33bcbacac"
      },
      "execution_count": null,
      "outputs": [
        {
          "output_type": "execute_result",
          "data": {
            "text/plain": [
              "array(['Driver_ID', 'Age', 'Gender', 'Education_Level', 'Income',\n",
              "       'Joining Designation', 'Grade', 'Total Business Value',\n",
              "       'Quarterly Rating'], dtype=object)"
            ]
          },
          "metadata": {},
          "execution_count": 122
        }
      ]
    },
    {
      "cell_type": "code",
      "source": [
        "column_names = imputer.get_feature_names_out()\n",
        "\n",
        "# Convert imputed data to DataFrame with column names\n",
        "imputed_df = pd.DataFrame(imputed_data, columns=column_names)"
      ],
      "metadata": {
        "id": "-7b99v_GesbH"
      },
      "execution_count": null,
      "outputs": []
    },
    {
      "cell_type": "code",
      "source": [
        "imputed_df.head()"
      ],
      "metadata": {
        "colab": {
          "base_uri": "https://localhost:8080/",
          "height": 206
        },
        "id": "RlNhHQpSe55i",
        "outputId": "339fd12f-fdcf-4980-a170-1b9afe6f973f"
      },
      "execution_count": null,
      "outputs": [
        {
          "output_type": "execute_result",
          "data": {
            "text/plain": [
              "   Driver_ID        Age    Gender  Education_Level   Income  \\\n",
              "0       20.0  28.888889  1.000000              0.0  40342.0   \n",
              "1       22.0  34.555556  0.000000              2.0  31224.0   \n",
              "2       24.0  38.444444  0.000000              2.0  76308.0   \n",
              "3       40.0  31.111111  0.000000              0.0  59182.0   \n",
              "4       43.0  27.000000  0.555556              0.0  12906.0   \n",
              "\n",
              "   Joining Designation  Grade  Total Business Value  Quarterly Rating  \n",
              "0                  3.0    3.0                   0.0               1.0  \n",
              "1                  1.0    1.0              200000.0               3.0  \n",
              "2                  1.0    2.0              203240.0               3.0  \n",
              "3                  2.0    2.0                   0.0               1.0  \n",
              "4                  1.0    1.0                   0.0               1.0  "
            ],
            "text/html": [
              "\n",
              "  <div id=\"df-24b51d6a-e437-4a55-9b20-5eb0822a4b6f\" class=\"colab-df-container\">\n",
              "    <div>\n",
              "<style scoped>\n",
              "    .dataframe tbody tr th:only-of-type {\n",
              "        vertical-align: middle;\n",
              "    }\n",
              "\n",
              "    .dataframe tbody tr th {\n",
              "        vertical-align: top;\n",
              "    }\n",
              "\n",
              "    .dataframe thead th {\n",
              "        text-align: right;\n",
              "    }\n",
              "</style>\n",
              "<table border=\"1\" class=\"dataframe\">\n",
              "  <thead>\n",
              "    <tr style=\"text-align: right;\">\n",
              "      <th></th>\n",
              "      <th>Driver_ID</th>\n",
              "      <th>Age</th>\n",
              "      <th>Gender</th>\n",
              "      <th>Education_Level</th>\n",
              "      <th>Income</th>\n",
              "      <th>Joining Designation</th>\n",
              "      <th>Grade</th>\n",
              "      <th>Total Business Value</th>\n",
              "      <th>Quarterly Rating</th>\n",
              "    </tr>\n",
              "  </thead>\n",
              "  <tbody>\n",
              "    <tr>\n",
              "      <th>0</th>\n",
              "      <td>20.0</td>\n",
              "      <td>28.888889</td>\n",
              "      <td>1.000000</td>\n",
              "      <td>0.0</td>\n",
              "      <td>40342.0</td>\n",
              "      <td>3.0</td>\n",
              "      <td>3.0</td>\n",
              "      <td>0.0</td>\n",
              "      <td>1.0</td>\n",
              "    </tr>\n",
              "    <tr>\n",
              "      <th>1</th>\n",
              "      <td>22.0</td>\n",
              "      <td>34.555556</td>\n",
              "      <td>0.000000</td>\n",
              "      <td>2.0</td>\n",
              "      <td>31224.0</td>\n",
              "      <td>1.0</td>\n",
              "      <td>1.0</td>\n",
              "      <td>200000.0</td>\n",
              "      <td>3.0</td>\n",
              "    </tr>\n",
              "    <tr>\n",
              "      <th>2</th>\n",
              "      <td>24.0</td>\n",
              "      <td>38.444444</td>\n",
              "      <td>0.000000</td>\n",
              "      <td>2.0</td>\n",
              "      <td>76308.0</td>\n",
              "      <td>1.0</td>\n",
              "      <td>2.0</td>\n",
              "      <td>203240.0</td>\n",
              "      <td>3.0</td>\n",
              "    </tr>\n",
              "    <tr>\n",
              "      <th>3</th>\n",
              "      <td>40.0</td>\n",
              "      <td>31.111111</td>\n",
              "      <td>0.000000</td>\n",
              "      <td>0.0</td>\n",
              "      <td>59182.0</td>\n",
              "      <td>2.0</td>\n",
              "      <td>2.0</td>\n",
              "      <td>0.0</td>\n",
              "      <td>1.0</td>\n",
              "    </tr>\n",
              "    <tr>\n",
              "      <th>4</th>\n",
              "      <td>43.0</td>\n",
              "      <td>27.000000</td>\n",
              "      <td>0.555556</td>\n",
              "      <td>0.0</td>\n",
              "      <td>12906.0</td>\n",
              "      <td>1.0</td>\n",
              "      <td>1.0</td>\n",
              "      <td>0.0</td>\n",
              "      <td>1.0</td>\n",
              "    </tr>\n",
              "  </tbody>\n",
              "</table>\n",
              "</div>\n",
              "    <div class=\"colab-df-buttons\">\n",
              "\n",
              "  <div class=\"colab-df-container\">\n",
              "    <button class=\"colab-df-convert\" onclick=\"convertToInteractive('df-24b51d6a-e437-4a55-9b20-5eb0822a4b6f')\"\n",
              "            title=\"Convert this dataframe to an interactive table.\"\n",
              "            style=\"display:none;\">\n",
              "\n",
              "  <svg xmlns=\"http://www.w3.org/2000/svg\" height=\"24px\" viewBox=\"0 -960 960 960\">\n",
              "    <path d=\"M120-120v-720h720v720H120Zm60-500h600v-160H180v160Zm220 220h160v-160H400v160Zm0 220h160v-160H400v160ZM180-400h160v-160H180v160Zm440 0h160v-160H620v160ZM180-180h160v-160H180v160Zm440 0h160v-160H620v160Z\"/>\n",
              "  </svg>\n",
              "    </button>\n",
              "\n",
              "  <style>\n",
              "    .colab-df-container {\n",
              "      display:flex;\n",
              "      gap: 12px;\n",
              "    }\n",
              "\n",
              "    .colab-df-convert {\n",
              "      background-color: #E8F0FE;\n",
              "      border: none;\n",
              "      border-radius: 50%;\n",
              "      cursor: pointer;\n",
              "      display: none;\n",
              "      fill: #1967D2;\n",
              "      height: 32px;\n",
              "      padding: 0 0 0 0;\n",
              "      width: 32px;\n",
              "    }\n",
              "\n",
              "    .colab-df-convert:hover {\n",
              "      background-color: #E2EBFA;\n",
              "      box-shadow: 0px 1px 2px rgba(60, 64, 67, 0.3), 0px 1px 3px 1px rgba(60, 64, 67, 0.15);\n",
              "      fill: #174EA6;\n",
              "    }\n",
              "\n",
              "    .colab-df-buttons div {\n",
              "      margin-bottom: 4px;\n",
              "    }\n",
              "\n",
              "    [theme=dark] .colab-df-convert {\n",
              "      background-color: #3B4455;\n",
              "      fill: #D2E3FC;\n",
              "    }\n",
              "\n",
              "    [theme=dark] .colab-df-convert:hover {\n",
              "      background-color: #434B5C;\n",
              "      box-shadow: 0px 1px 3px 1px rgba(0, 0, 0, 0.15);\n",
              "      filter: drop-shadow(0px 1px 2px rgba(0, 0, 0, 0.3));\n",
              "      fill: #FFFFFF;\n",
              "    }\n",
              "  </style>\n",
              "\n",
              "    <script>\n",
              "      const buttonEl =\n",
              "        document.querySelector('#df-24b51d6a-e437-4a55-9b20-5eb0822a4b6f button.colab-df-convert');\n",
              "      buttonEl.style.display =\n",
              "        google.colab.kernel.accessAllowed ? 'block' : 'none';\n",
              "\n",
              "      async function convertToInteractive(key) {\n",
              "        const element = document.querySelector('#df-24b51d6a-e437-4a55-9b20-5eb0822a4b6f');\n",
              "        const dataTable =\n",
              "          await google.colab.kernel.invokeFunction('convertToInteractive',\n",
              "                                                    [key], {});\n",
              "        if (!dataTable) return;\n",
              "\n",
              "        const docLinkHtml = 'Like what you see? Visit the ' +\n",
              "          '<a target=\"_blank\" href=https://colab.research.google.com/notebooks/data_table.ipynb>data table notebook</a>'\n",
              "          + ' to learn more about interactive tables.';\n",
              "        element.innerHTML = '';\n",
              "        dataTable['output_type'] = 'display_data';\n",
              "        await google.colab.output.renderOutput(dataTable, element);\n",
              "        const docLink = document.createElement('div');\n",
              "        docLink.innerHTML = docLinkHtml;\n",
              "        element.appendChild(docLink);\n",
              "      }\n",
              "    </script>\n",
              "  </div>\n",
              "\n",
              "\n",
              "<div id=\"df-52e70332-e8ac-4dc4-9135-6a53f452766f\">\n",
              "  <button class=\"colab-df-quickchart\" onclick=\"quickchart('df-52e70332-e8ac-4dc4-9135-6a53f452766f')\"\n",
              "            title=\"Suggest charts\"\n",
              "            style=\"display:none;\">\n",
              "\n",
              "<svg xmlns=\"http://www.w3.org/2000/svg\" height=\"24px\"viewBox=\"0 0 24 24\"\n",
              "     width=\"24px\">\n",
              "    <g>\n",
              "        <path d=\"M19 3H5c-1.1 0-2 .9-2 2v14c0 1.1.9 2 2 2h14c1.1 0 2-.9 2-2V5c0-1.1-.9-2-2-2zM9 17H7v-7h2v7zm4 0h-2V7h2v10zm4 0h-2v-4h2v4z\"/>\n",
              "    </g>\n",
              "</svg>\n",
              "  </button>\n",
              "\n",
              "<style>\n",
              "  .colab-df-quickchart {\n",
              "      --bg-color: #E8F0FE;\n",
              "      --fill-color: #1967D2;\n",
              "      --hover-bg-color: #E2EBFA;\n",
              "      --hover-fill-color: #174EA6;\n",
              "      --disabled-fill-color: #AAA;\n",
              "      --disabled-bg-color: #DDD;\n",
              "  }\n",
              "\n",
              "  [theme=dark] .colab-df-quickchart {\n",
              "      --bg-color: #3B4455;\n",
              "      --fill-color: #D2E3FC;\n",
              "      --hover-bg-color: #434B5C;\n",
              "      --hover-fill-color: #FFFFFF;\n",
              "      --disabled-bg-color: #3B4455;\n",
              "      --disabled-fill-color: #666;\n",
              "  }\n",
              "\n",
              "  .colab-df-quickchart {\n",
              "    background-color: var(--bg-color);\n",
              "    border: none;\n",
              "    border-radius: 50%;\n",
              "    cursor: pointer;\n",
              "    display: none;\n",
              "    fill: var(--fill-color);\n",
              "    height: 32px;\n",
              "    padding: 0;\n",
              "    width: 32px;\n",
              "  }\n",
              "\n",
              "  .colab-df-quickchart:hover {\n",
              "    background-color: var(--hover-bg-color);\n",
              "    box-shadow: 0 1px 2px rgba(60, 64, 67, 0.3), 0 1px 3px 1px rgba(60, 64, 67, 0.15);\n",
              "    fill: var(--button-hover-fill-color);\n",
              "  }\n",
              "\n",
              "  .colab-df-quickchart-complete:disabled,\n",
              "  .colab-df-quickchart-complete:disabled:hover {\n",
              "    background-color: var(--disabled-bg-color);\n",
              "    fill: var(--disabled-fill-color);\n",
              "    box-shadow: none;\n",
              "  }\n",
              "\n",
              "  .colab-df-spinner {\n",
              "    border: 2px solid var(--fill-color);\n",
              "    border-color: transparent;\n",
              "    border-bottom-color: var(--fill-color);\n",
              "    animation:\n",
              "      spin 1s steps(1) infinite;\n",
              "  }\n",
              "\n",
              "  @keyframes spin {\n",
              "    0% {\n",
              "      border-color: transparent;\n",
              "      border-bottom-color: var(--fill-color);\n",
              "      border-left-color: var(--fill-color);\n",
              "    }\n",
              "    20% {\n",
              "      border-color: transparent;\n",
              "      border-left-color: var(--fill-color);\n",
              "      border-top-color: var(--fill-color);\n",
              "    }\n",
              "    30% {\n",
              "      border-color: transparent;\n",
              "      border-left-color: var(--fill-color);\n",
              "      border-top-color: var(--fill-color);\n",
              "      border-right-color: var(--fill-color);\n",
              "    }\n",
              "    40% {\n",
              "      border-color: transparent;\n",
              "      border-right-color: var(--fill-color);\n",
              "      border-top-color: var(--fill-color);\n",
              "    }\n",
              "    60% {\n",
              "      border-color: transparent;\n",
              "      border-right-color: var(--fill-color);\n",
              "    }\n",
              "    80% {\n",
              "      border-color: transparent;\n",
              "      border-right-color: var(--fill-color);\n",
              "      border-bottom-color: var(--fill-color);\n",
              "    }\n",
              "    90% {\n",
              "      border-color: transparent;\n",
              "      border-bottom-color: var(--fill-color);\n",
              "    }\n",
              "  }\n",
              "</style>\n",
              "\n",
              "  <script>\n",
              "    async function quickchart(key) {\n",
              "      const quickchartButtonEl =\n",
              "        document.querySelector('#' + key + ' button');\n",
              "      quickchartButtonEl.disabled = true;  // To prevent multiple clicks.\n",
              "      quickchartButtonEl.classList.add('colab-df-spinner');\n",
              "      try {\n",
              "        const charts = await google.colab.kernel.invokeFunction(\n",
              "            'suggestCharts', [key], {});\n",
              "      } catch (error) {\n",
              "        console.error('Error during call to suggestCharts:', error);\n",
              "      }\n",
              "      quickchartButtonEl.classList.remove('colab-df-spinner');\n",
              "      quickchartButtonEl.classList.add('colab-df-quickchart-complete');\n",
              "    }\n",
              "    (() => {\n",
              "      let quickchartButtonEl =\n",
              "        document.querySelector('#df-52e70332-e8ac-4dc4-9135-6a53f452766f button');\n",
              "      quickchartButtonEl.style.display =\n",
              "        google.colab.kernel.accessAllowed ? 'block' : 'none';\n",
              "    })();\n",
              "  </script>\n",
              "</div>\n",
              "\n",
              "    </div>\n",
              "  </div>\n"
            ],
            "application/vnd.google.colaboratory.intrinsic+json": {
              "type": "dataframe",
              "variable_name": "imputed_df",
              "summary": "{\n  \"name\": \"imputed_df\",\n  \"rows\": 113,\n  \"fields\": [\n    {\n      \"column\": \"Driver_ID\",\n      \"properties\": {\n        \"dtype\": \"number\",\n        \"std\": 938.6154374797741,\n        \"min\": 20.0,\n        \"max\": 2774.0,\n        \"num_unique_values\": 102,\n        \"samples\": [\n          458.0,\n          1669.0,\n          1462.0\n        ],\n        \"semantic_type\": \"\",\n        \"description\": \"\"\n      }\n    },\n    {\n      \"column\": \"Age\",\n      \"properties\": {\n        \"dtype\": \"number\",\n        \"std\": 4.956468151041071,\n        \"min\": 21.0,\n        \"max\": 54.0,\n        \"num_unique_values\": 52,\n        \"samples\": [\n          32.55555555555556,\n          33.888888888888886,\n          37.0\n        ],\n        \"semantic_type\": \"\",\n        \"description\": \"\"\n      }\n    },\n    {\n      \"column\": \"Gender\",\n      \"properties\": {\n        \"dtype\": \"number\",\n        \"std\": 0.39324909042834816,\n        \"min\": 0.0,\n        \"max\": 1.0,\n        \"num_unique_values\": 10,\n        \"samples\": [\n          0.8888888888888888,\n          0.0,\n          0.1111111111111111\n        ],\n        \"semantic_type\": \"\",\n        \"description\": \"\"\n      }\n    },\n    {\n      \"column\": \"Education_Level\",\n      \"properties\": {\n        \"dtype\": \"number\",\n        \"std\": 0.8220261114705039,\n        \"min\": 0.0,\n        \"max\": 2.0,\n        \"num_unique_values\": 3,\n        \"samples\": [\n          0.0,\n          2.0,\n          1.0\n        ],\n        \"semantic_type\": \"\",\n        \"description\": \"\"\n      }\n    },\n    {\n      \"column\": \"Income\",\n      \"properties\": {\n        \"dtype\": \"number\",\n        \"std\": 26074.85867784695,\n        \"min\": 11068.0,\n        \"max\": 152234.0,\n        \"num_unique_values\": 102,\n        \"samples\": [\n          16749.0,\n          11068.0,\n          58278.0\n        ],\n        \"semantic_type\": \"\",\n        \"description\": \"\"\n      }\n    },\n    {\n      \"column\": \"Joining Designation\",\n      \"properties\": {\n        \"dtype\": \"number\",\n        \"std\": 0.8230827624735941,\n        \"min\": 1.0,\n        \"max\": 5.0,\n        \"num_unique_values\": 4,\n        \"samples\": [\n          1.0,\n          5.0,\n          3.0\n        ],\n        \"semantic_type\": \"\",\n        \"description\": \"\"\n      }\n    },\n    {\n      \"column\": \"Grade\",\n      \"properties\": {\n        \"dtype\": \"number\",\n        \"std\": 0.905018317071619,\n        \"min\": 1.0,\n        \"max\": 5.0,\n        \"num_unique_values\": 5,\n        \"samples\": [\n          1.0,\n          5.0,\n          2.0\n        ],\n        \"semantic_type\": \"\",\n        \"description\": \"\"\n      }\n    },\n    {\n      \"column\": \"Total Business Value\",\n      \"properties\": {\n        \"dtype\": \"number\",\n        \"std\": 542667.1436646918,\n        \"min\": 0.0,\n        \"max\": 3435100.0,\n        \"num_unique_values\": 65,\n        \"samples\": [\n          150000.0,\n          300060.0,\n          0.0\n        ],\n        \"semantic_type\": \"\",\n        \"description\": \"\"\n      }\n    },\n    {\n      \"column\": \"Quarterly Rating\",\n      \"properties\": {\n        \"dtype\": \"number\",\n        \"std\": 0.9650989219782291,\n        \"min\": 1.0,\n        \"max\": 4.0,\n        \"num_unique_values\": 4,\n        \"samples\": [\n          3.0,\n          4.0,\n          1.0\n        ],\n        \"semantic_type\": \"\",\n        \"description\": \"\"\n      }\n    }\n  ]\n}"
            }
          },
          "metadata": {},
          "execution_count": 124
        }
      ]
    },
    {
      "cell_type": "code",
      "source": [
        "df3 = df3.reset_index()"
      ],
      "metadata": {
        "id": "sdVD6783fXus"
      },
      "execution_count": null,
      "outputs": []
    },
    {
      "cell_type": "code",
      "source": [
        "df3"
      ],
      "metadata": {
        "colab": {
          "base_uri": "https://localhost:8080/",
          "height": 423
        },
        "id": "_r2kt7DEfgUr",
        "outputId": "ff7f9b1c-d13b-4eff-92ef-42c129f485fb"
      },
      "execution_count": null,
      "outputs": [
        {
          "output_type": "execute_result",
          "data": {
            "text/plain": [
              "     index    MMM-YY  Driver_ID   Age  Gender City  Education_Level  Income  \\\n",
              "0       72  02/01/20         20   NaN     1.0  C19                0   40342   \n",
              "1       97  10/01/19         22   NaN     0.0  C10                2   31224   \n",
              "2      110  07/01/19         24   NaN     0.0  C24                2   76308   \n",
              "3      212  11/01/19         40   NaN     0.0  C15                0   59182   \n",
              "4      240  02/01/19         43  27.0     NaN  C15                0   12906   \n",
              "..     ...       ...        ...   ...     ...  ...              ...     ...   \n",
              "108  18843  01/01/19       2751   NaN     0.0  C17                2   53115   \n",
              "109  18928  12/01/19       2760  31.0     NaN  C20                0   51471   \n",
              "110  18953  01/01/19       2765  26.0     NaN  C18                1   38809   \n",
              "111  19024  02/01/19       2774   NaN     0.0  C15                1   42313   \n",
              "112  19028  06/01/19       2774  40.0     NaN  C15                1   42313   \n",
              "\n",
              "    Dateofjoining  Joining Designation  Grade  Total Business Value  \\\n",
              "0        25/10/19                    3      3                     0   \n",
              "1        25/05/18                    1      1                200000   \n",
              "2        25/05/18                    1      2                203240   \n",
              "3        11/08/19                    2      2                     0   \n",
              "4        13/07/18                    1      1                     0   \n",
              "..            ...                  ...    ...                   ...   \n",
              "108      11/05/15                    1      1                506550   \n",
              "109      10/03/19                    3      3                     0   \n",
              "110      10/02/18                    1      1                     0   \n",
              "111      21/07/18                    1      1               1141280   \n",
              "112      21/07/18                    1      1                     0   \n",
              "\n",
              "     Quarterly Rating  IsChurn  \n",
              "0                   1        0  \n",
              "1                   3        0  \n",
              "2                   3        0  \n",
              "3                   1        0  \n",
              "4                   1        1  \n",
              "..                ...      ...  \n",
              "108                 3        0  \n",
              "109                 1        0  \n",
              "110                 1        0  \n",
              "111                 4        0  \n",
              "112                 2        0  \n",
              "\n",
              "[113 rows x 14 columns]"
            ],
            "text/html": [
              "\n",
              "  <div id=\"df-6176f20e-ca97-4512-ad4d-85782bc15528\" class=\"colab-df-container\">\n",
              "    <div>\n",
              "<style scoped>\n",
              "    .dataframe tbody tr th:only-of-type {\n",
              "        vertical-align: middle;\n",
              "    }\n",
              "\n",
              "    .dataframe tbody tr th {\n",
              "        vertical-align: top;\n",
              "    }\n",
              "\n",
              "    .dataframe thead th {\n",
              "        text-align: right;\n",
              "    }\n",
              "</style>\n",
              "<table border=\"1\" class=\"dataframe\">\n",
              "  <thead>\n",
              "    <tr style=\"text-align: right;\">\n",
              "      <th></th>\n",
              "      <th>index</th>\n",
              "      <th>MMM-YY</th>\n",
              "      <th>Driver_ID</th>\n",
              "      <th>Age</th>\n",
              "      <th>Gender</th>\n",
              "      <th>City</th>\n",
              "      <th>Education_Level</th>\n",
              "      <th>Income</th>\n",
              "      <th>Dateofjoining</th>\n",
              "      <th>Joining Designation</th>\n",
              "      <th>Grade</th>\n",
              "      <th>Total Business Value</th>\n",
              "      <th>Quarterly Rating</th>\n",
              "      <th>IsChurn</th>\n",
              "    </tr>\n",
              "  </thead>\n",
              "  <tbody>\n",
              "    <tr>\n",
              "      <th>0</th>\n",
              "      <td>72</td>\n",
              "      <td>02/01/20</td>\n",
              "      <td>20</td>\n",
              "      <td>NaN</td>\n",
              "      <td>1.0</td>\n",
              "      <td>C19</td>\n",
              "      <td>0</td>\n",
              "      <td>40342</td>\n",
              "      <td>25/10/19</td>\n",
              "      <td>3</td>\n",
              "      <td>3</td>\n",
              "      <td>0</td>\n",
              "      <td>1</td>\n",
              "      <td>0</td>\n",
              "    </tr>\n",
              "    <tr>\n",
              "      <th>1</th>\n",
              "      <td>97</td>\n",
              "      <td>10/01/19</td>\n",
              "      <td>22</td>\n",
              "      <td>NaN</td>\n",
              "      <td>0.0</td>\n",
              "      <td>C10</td>\n",
              "      <td>2</td>\n",
              "      <td>31224</td>\n",
              "      <td>25/05/18</td>\n",
              "      <td>1</td>\n",
              "      <td>1</td>\n",
              "      <td>200000</td>\n",
              "      <td>3</td>\n",
              "      <td>0</td>\n",
              "    </tr>\n",
              "    <tr>\n",
              "      <th>2</th>\n",
              "      <td>110</td>\n",
              "      <td>07/01/19</td>\n",
              "      <td>24</td>\n",
              "      <td>NaN</td>\n",
              "      <td>0.0</td>\n",
              "      <td>C24</td>\n",
              "      <td>2</td>\n",
              "      <td>76308</td>\n",
              "      <td>25/05/18</td>\n",
              "      <td>1</td>\n",
              "      <td>2</td>\n",
              "      <td>203240</td>\n",
              "      <td>3</td>\n",
              "      <td>0</td>\n",
              "    </tr>\n",
              "    <tr>\n",
              "      <th>3</th>\n",
              "      <td>212</td>\n",
              "      <td>11/01/19</td>\n",
              "      <td>40</td>\n",
              "      <td>NaN</td>\n",
              "      <td>0.0</td>\n",
              "      <td>C15</td>\n",
              "      <td>0</td>\n",
              "      <td>59182</td>\n",
              "      <td>11/08/19</td>\n",
              "      <td>2</td>\n",
              "      <td>2</td>\n",
              "      <td>0</td>\n",
              "      <td>1</td>\n",
              "      <td>0</td>\n",
              "    </tr>\n",
              "    <tr>\n",
              "      <th>4</th>\n",
              "      <td>240</td>\n",
              "      <td>02/01/19</td>\n",
              "      <td>43</td>\n",
              "      <td>27.0</td>\n",
              "      <td>NaN</td>\n",
              "      <td>C15</td>\n",
              "      <td>0</td>\n",
              "      <td>12906</td>\n",
              "      <td>13/07/18</td>\n",
              "      <td>1</td>\n",
              "      <td>1</td>\n",
              "      <td>0</td>\n",
              "      <td>1</td>\n",
              "      <td>1</td>\n",
              "    </tr>\n",
              "    <tr>\n",
              "      <th>...</th>\n",
              "      <td>...</td>\n",
              "      <td>...</td>\n",
              "      <td>...</td>\n",
              "      <td>...</td>\n",
              "      <td>...</td>\n",
              "      <td>...</td>\n",
              "      <td>...</td>\n",
              "      <td>...</td>\n",
              "      <td>...</td>\n",
              "      <td>...</td>\n",
              "      <td>...</td>\n",
              "      <td>...</td>\n",
              "      <td>...</td>\n",
              "      <td>...</td>\n",
              "    </tr>\n",
              "    <tr>\n",
              "      <th>108</th>\n",
              "      <td>18843</td>\n",
              "      <td>01/01/19</td>\n",
              "      <td>2751</td>\n",
              "      <td>NaN</td>\n",
              "      <td>0.0</td>\n",
              "      <td>C17</td>\n",
              "      <td>2</td>\n",
              "      <td>53115</td>\n",
              "      <td>11/05/15</td>\n",
              "      <td>1</td>\n",
              "      <td>1</td>\n",
              "      <td>506550</td>\n",
              "      <td>3</td>\n",
              "      <td>0</td>\n",
              "    </tr>\n",
              "    <tr>\n",
              "      <th>109</th>\n",
              "      <td>18928</td>\n",
              "      <td>12/01/19</td>\n",
              "      <td>2760</td>\n",
              "      <td>31.0</td>\n",
              "      <td>NaN</td>\n",
              "      <td>C20</td>\n",
              "      <td>0</td>\n",
              "      <td>51471</td>\n",
              "      <td>10/03/19</td>\n",
              "      <td>3</td>\n",
              "      <td>3</td>\n",
              "      <td>0</td>\n",
              "      <td>1</td>\n",
              "      <td>0</td>\n",
              "    </tr>\n",
              "    <tr>\n",
              "      <th>110</th>\n",
              "      <td>18953</td>\n",
              "      <td>01/01/19</td>\n",
              "      <td>2765</td>\n",
              "      <td>26.0</td>\n",
              "      <td>NaN</td>\n",
              "      <td>C18</td>\n",
              "      <td>1</td>\n",
              "      <td>38809</td>\n",
              "      <td>10/02/18</td>\n",
              "      <td>1</td>\n",
              "      <td>1</td>\n",
              "      <td>0</td>\n",
              "      <td>1</td>\n",
              "      <td>0</td>\n",
              "    </tr>\n",
              "    <tr>\n",
              "      <th>111</th>\n",
              "      <td>19024</td>\n",
              "      <td>02/01/19</td>\n",
              "      <td>2774</td>\n",
              "      <td>NaN</td>\n",
              "      <td>0.0</td>\n",
              "      <td>C15</td>\n",
              "      <td>1</td>\n",
              "      <td>42313</td>\n",
              "      <td>21/07/18</td>\n",
              "      <td>1</td>\n",
              "      <td>1</td>\n",
              "      <td>1141280</td>\n",
              "      <td>4</td>\n",
              "      <td>0</td>\n",
              "    </tr>\n",
              "    <tr>\n",
              "      <th>112</th>\n",
              "      <td>19028</td>\n",
              "      <td>06/01/19</td>\n",
              "      <td>2774</td>\n",
              "      <td>40.0</td>\n",
              "      <td>NaN</td>\n",
              "      <td>C15</td>\n",
              "      <td>1</td>\n",
              "      <td>42313</td>\n",
              "      <td>21/07/18</td>\n",
              "      <td>1</td>\n",
              "      <td>1</td>\n",
              "      <td>0</td>\n",
              "      <td>2</td>\n",
              "      <td>0</td>\n",
              "    </tr>\n",
              "  </tbody>\n",
              "</table>\n",
              "<p>113 rows × 14 columns</p>\n",
              "</div>\n",
              "    <div class=\"colab-df-buttons\">\n",
              "\n",
              "  <div class=\"colab-df-container\">\n",
              "    <button class=\"colab-df-convert\" onclick=\"convertToInteractive('df-6176f20e-ca97-4512-ad4d-85782bc15528')\"\n",
              "            title=\"Convert this dataframe to an interactive table.\"\n",
              "            style=\"display:none;\">\n",
              "\n",
              "  <svg xmlns=\"http://www.w3.org/2000/svg\" height=\"24px\" viewBox=\"0 -960 960 960\">\n",
              "    <path d=\"M120-120v-720h720v720H120Zm60-500h600v-160H180v160Zm220 220h160v-160H400v160Zm0 220h160v-160H400v160ZM180-400h160v-160H180v160Zm440 0h160v-160H620v160ZM180-180h160v-160H180v160Zm440 0h160v-160H620v160Z\"/>\n",
              "  </svg>\n",
              "    </button>\n",
              "\n",
              "  <style>\n",
              "    .colab-df-container {\n",
              "      display:flex;\n",
              "      gap: 12px;\n",
              "    }\n",
              "\n",
              "    .colab-df-convert {\n",
              "      background-color: #E8F0FE;\n",
              "      border: none;\n",
              "      border-radius: 50%;\n",
              "      cursor: pointer;\n",
              "      display: none;\n",
              "      fill: #1967D2;\n",
              "      height: 32px;\n",
              "      padding: 0 0 0 0;\n",
              "      width: 32px;\n",
              "    }\n",
              "\n",
              "    .colab-df-convert:hover {\n",
              "      background-color: #E2EBFA;\n",
              "      box-shadow: 0px 1px 2px rgba(60, 64, 67, 0.3), 0px 1px 3px 1px rgba(60, 64, 67, 0.15);\n",
              "      fill: #174EA6;\n",
              "    }\n",
              "\n",
              "    .colab-df-buttons div {\n",
              "      margin-bottom: 4px;\n",
              "    }\n",
              "\n",
              "    [theme=dark] .colab-df-convert {\n",
              "      background-color: #3B4455;\n",
              "      fill: #D2E3FC;\n",
              "    }\n",
              "\n",
              "    [theme=dark] .colab-df-convert:hover {\n",
              "      background-color: #434B5C;\n",
              "      box-shadow: 0px 1px 3px 1px rgba(0, 0, 0, 0.15);\n",
              "      filter: drop-shadow(0px 1px 2px rgba(0, 0, 0, 0.3));\n",
              "      fill: #FFFFFF;\n",
              "    }\n",
              "  </style>\n",
              "\n",
              "    <script>\n",
              "      const buttonEl =\n",
              "        document.querySelector('#df-6176f20e-ca97-4512-ad4d-85782bc15528 button.colab-df-convert');\n",
              "      buttonEl.style.display =\n",
              "        google.colab.kernel.accessAllowed ? 'block' : 'none';\n",
              "\n",
              "      async function convertToInteractive(key) {\n",
              "        const element = document.querySelector('#df-6176f20e-ca97-4512-ad4d-85782bc15528');\n",
              "        const dataTable =\n",
              "          await google.colab.kernel.invokeFunction('convertToInteractive',\n",
              "                                                    [key], {});\n",
              "        if (!dataTable) return;\n",
              "\n",
              "        const docLinkHtml = 'Like what you see? Visit the ' +\n",
              "          '<a target=\"_blank\" href=https://colab.research.google.com/notebooks/data_table.ipynb>data table notebook</a>'\n",
              "          + ' to learn more about interactive tables.';\n",
              "        element.innerHTML = '';\n",
              "        dataTable['output_type'] = 'display_data';\n",
              "        await google.colab.output.renderOutput(dataTable, element);\n",
              "        const docLink = document.createElement('div');\n",
              "        docLink.innerHTML = docLinkHtml;\n",
              "        element.appendChild(docLink);\n",
              "      }\n",
              "    </script>\n",
              "  </div>\n",
              "\n",
              "\n",
              "<div id=\"df-df761389-e96b-40f9-9aee-879e9fb6625c\">\n",
              "  <button class=\"colab-df-quickchart\" onclick=\"quickchart('df-df761389-e96b-40f9-9aee-879e9fb6625c')\"\n",
              "            title=\"Suggest charts\"\n",
              "            style=\"display:none;\">\n",
              "\n",
              "<svg xmlns=\"http://www.w3.org/2000/svg\" height=\"24px\"viewBox=\"0 0 24 24\"\n",
              "     width=\"24px\">\n",
              "    <g>\n",
              "        <path d=\"M19 3H5c-1.1 0-2 .9-2 2v14c0 1.1.9 2 2 2h14c1.1 0 2-.9 2-2V5c0-1.1-.9-2-2-2zM9 17H7v-7h2v7zm4 0h-2V7h2v10zm4 0h-2v-4h2v4z\"/>\n",
              "    </g>\n",
              "</svg>\n",
              "  </button>\n",
              "\n",
              "<style>\n",
              "  .colab-df-quickchart {\n",
              "      --bg-color: #E8F0FE;\n",
              "      --fill-color: #1967D2;\n",
              "      --hover-bg-color: #E2EBFA;\n",
              "      --hover-fill-color: #174EA6;\n",
              "      --disabled-fill-color: #AAA;\n",
              "      --disabled-bg-color: #DDD;\n",
              "  }\n",
              "\n",
              "  [theme=dark] .colab-df-quickchart {\n",
              "      --bg-color: #3B4455;\n",
              "      --fill-color: #D2E3FC;\n",
              "      --hover-bg-color: #434B5C;\n",
              "      --hover-fill-color: #FFFFFF;\n",
              "      --disabled-bg-color: #3B4455;\n",
              "      --disabled-fill-color: #666;\n",
              "  }\n",
              "\n",
              "  .colab-df-quickchart {\n",
              "    background-color: var(--bg-color);\n",
              "    border: none;\n",
              "    border-radius: 50%;\n",
              "    cursor: pointer;\n",
              "    display: none;\n",
              "    fill: var(--fill-color);\n",
              "    height: 32px;\n",
              "    padding: 0;\n",
              "    width: 32px;\n",
              "  }\n",
              "\n",
              "  .colab-df-quickchart:hover {\n",
              "    background-color: var(--hover-bg-color);\n",
              "    box-shadow: 0 1px 2px rgba(60, 64, 67, 0.3), 0 1px 3px 1px rgba(60, 64, 67, 0.15);\n",
              "    fill: var(--button-hover-fill-color);\n",
              "  }\n",
              "\n",
              "  .colab-df-quickchart-complete:disabled,\n",
              "  .colab-df-quickchart-complete:disabled:hover {\n",
              "    background-color: var(--disabled-bg-color);\n",
              "    fill: var(--disabled-fill-color);\n",
              "    box-shadow: none;\n",
              "  }\n",
              "\n",
              "  .colab-df-spinner {\n",
              "    border: 2px solid var(--fill-color);\n",
              "    border-color: transparent;\n",
              "    border-bottom-color: var(--fill-color);\n",
              "    animation:\n",
              "      spin 1s steps(1) infinite;\n",
              "  }\n",
              "\n",
              "  @keyframes spin {\n",
              "    0% {\n",
              "      border-color: transparent;\n",
              "      border-bottom-color: var(--fill-color);\n",
              "      border-left-color: var(--fill-color);\n",
              "    }\n",
              "    20% {\n",
              "      border-color: transparent;\n",
              "      border-left-color: var(--fill-color);\n",
              "      border-top-color: var(--fill-color);\n",
              "    }\n",
              "    30% {\n",
              "      border-color: transparent;\n",
              "      border-left-color: var(--fill-color);\n",
              "      border-top-color: var(--fill-color);\n",
              "      border-right-color: var(--fill-color);\n",
              "    }\n",
              "    40% {\n",
              "      border-color: transparent;\n",
              "      border-right-color: var(--fill-color);\n",
              "      border-top-color: var(--fill-color);\n",
              "    }\n",
              "    60% {\n",
              "      border-color: transparent;\n",
              "      border-right-color: var(--fill-color);\n",
              "    }\n",
              "    80% {\n",
              "      border-color: transparent;\n",
              "      border-right-color: var(--fill-color);\n",
              "      border-bottom-color: var(--fill-color);\n",
              "    }\n",
              "    90% {\n",
              "      border-color: transparent;\n",
              "      border-bottom-color: var(--fill-color);\n",
              "    }\n",
              "  }\n",
              "</style>\n",
              "\n",
              "  <script>\n",
              "    async function quickchart(key) {\n",
              "      const quickchartButtonEl =\n",
              "        document.querySelector('#' + key + ' button');\n",
              "      quickchartButtonEl.disabled = true;  // To prevent multiple clicks.\n",
              "      quickchartButtonEl.classList.add('colab-df-spinner');\n",
              "      try {\n",
              "        const charts = await google.colab.kernel.invokeFunction(\n",
              "            'suggestCharts', [key], {});\n",
              "      } catch (error) {\n",
              "        console.error('Error during call to suggestCharts:', error);\n",
              "      }\n",
              "      quickchartButtonEl.classList.remove('colab-df-spinner');\n",
              "      quickchartButtonEl.classList.add('colab-df-quickchart-complete');\n",
              "    }\n",
              "    (() => {\n",
              "      let quickchartButtonEl =\n",
              "        document.querySelector('#df-df761389-e96b-40f9-9aee-879e9fb6625c button');\n",
              "      quickchartButtonEl.style.display =\n",
              "        google.colab.kernel.accessAllowed ? 'block' : 'none';\n",
              "    })();\n",
              "  </script>\n",
              "</div>\n",
              "\n",
              "  <div id=\"id_1c48169e-1c56-4ee2-87ad-95ef0c528339\">\n",
              "    <style>\n",
              "      .colab-df-generate {\n",
              "        background-color: #E8F0FE;\n",
              "        border: none;\n",
              "        border-radius: 50%;\n",
              "        cursor: pointer;\n",
              "        display: none;\n",
              "        fill: #1967D2;\n",
              "        height: 32px;\n",
              "        padding: 0 0 0 0;\n",
              "        width: 32px;\n",
              "      }\n",
              "\n",
              "      .colab-df-generate:hover {\n",
              "        background-color: #E2EBFA;\n",
              "        box-shadow: 0px 1px 2px rgba(60, 64, 67, 0.3), 0px 1px 3px 1px rgba(60, 64, 67, 0.15);\n",
              "        fill: #174EA6;\n",
              "      }\n",
              "\n",
              "      [theme=dark] .colab-df-generate {\n",
              "        background-color: #3B4455;\n",
              "        fill: #D2E3FC;\n",
              "      }\n",
              "\n",
              "      [theme=dark] .colab-df-generate:hover {\n",
              "        background-color: #434B5C;\n",
              "        box-shadow: 0px 1px 3px 1px rgba(0, 0, 0, 0.15);\n",
              "        filter: drop-shadow(0px 1px 2px rgba(0, 0, 0, 0.3));\n",
              "        fill: #FFFFFF;\n",
              "      }\n",
              "    </style>\n",
              "    <button class=\"colab-df-generate\" onclick=\"generateWithVariable('df3')\"\n",
              "            title=\"Generate code using this dataframe.\"\n",
              "            style=\"display:none;\">\n",
              "\n",
              "  <svg xmlns=\"http://www.w3.org/2000/svg\" height=\"24px\"viewBox=\"0 0 24 24\"\n",
              "       width=\"24px\">\n",
              "    <path d=\"M7,19H8.4L18.45,9,17,7.55,7,17.6ZM5,21V16.75L18.45,3.32a2,2,0,0,1,2.83,0l1.4,1.43a1.91,1.91,0,0,1,.58,1.4,1.91,1.91,0,0,1-.58,1.4L9.25,21ZM18.45,9,17,7.55Zm-12,3A5.31,5.31,0,0,0,4.9,8.1,5.31,5.31,0,0,0,1,6.5,5.31,5.31,0,0,0,4.9,4.9,5.31,5.31,0,0,0,6.5,1,5.31,5.31,0,0,0,8.1,4.9,5.31,5.31,0,0,0,12,6.5,5.46,5.46,0,0,0,6.5,12Z\"/>\n",
              "  </svg>\n",
              "    </button>\n",
              "    <script>\n",
              "      (() => {\n",
              "      const buttonEl =\n",
              "        document.querySelector('#id_1c48169e-1c56-4ee2-87ad-95ef0c528339 button.colab-df-generate');\n",
              "      buttonEl.style.display =\n",
              "        google.colab.kernel.accessAllowed ? 'block' : 'none';\n",
              "\n",
              "      buttonEl.onclick = () => {\n",
              "        google.colab.notebook.generateWithVariable('df3');\n",
              "      }\n",
              "      })();\n",
              "    </script>\n",
              "  </div>\n",
              "\n",
              "    </div>\n",
              "  </div>\n"
            ],
            "application/vnd.google.colaboratory.intrinsic+json": {
              "type": "dataframe",
              "variable_name": "df3",
              "repr_error": "'str' object has no attribute 'empty'"
            }
          },
          "metadata": {},
          "execution_count": 128
        }
      ]
    },
    {
      "cell_type": "code",
      "source": [
        "\n",
        "\n",
        "threshold = 0.5\n",
        "\n",
        "nan_indices = df3[df3['Gender'].isna()].index\n",
        "\n",
        "imputed_values = imputed_df['Gender'][nan_indices]\n",
        "\n",
        "# Replace NaN values with imputed values based on the condition\n",
        "df3.loc[nan_indices, 'Gender'] = np.where(imputed_values < threshold, 0, 1)\n"
      ],
      "metadata": {
        "id": "Qft6fvfidf1N"
      },
      "execution_count": null,
      "outputs": []
    },
    {
      "cell_type": "code",
      "source": [
        "# Identify NaN values in  DataFrame\n",
        "nan_indices = df3[df3['Age'].isna()].index\n",
        "\n",
        "imputed_values = imputed_df['Age'][nan_indices]\n",
        "\n",
        "# Replace NaN values with imputed values based on the condition\n",
        "df3.loc[nan_indices, 'Age'] = np.round(imputed_values,1)"
      ],
      "metadata": {
        "id": "8EZzMt8XhdKH"
      },
      "execution_count": null,
      "outputs": []
    },
    {
      "cell_type": "code",
      "source": [
        "df3 = df3.drop('index',axis=1)"
      ],
      "metadata": {
        "id": "5VYr1jKAhUE1"
      },
      "execution_count": null,
      "outputs": []
    },
    {
      "cell_type": "code",
      "source": [
        "merged_df = pd.concat([df.dropna(),df3],axis=0)  # merging df of imputed df and non nan df"
      ],
      "metadata": {
        "id": "Txlt1JrAhT_f"
      },
      "execution_count": null,
      "outputs": []
    },
    {
      "cell_type": "code",
      "source": [
        "merged_df"
      ],
      "metadata": {
        "colab": {
          "base_uri": "https://localhost:8080/",
          "height": 423
        },
        "id": "DVsarxA3_4jj",
        "outputId": "27b992ad-9541-4727-8cf1-1b830845239c"
      },
      "execution_count": null,
      "outputs": [
        {
          "output_type": "execute_result",
          "data": {
            "text/plain": [
              "       MMM-YY  Driver_ID   Age  Gender City  Education_Level  Income  \\\n",
              "0    01/01/19          1  28.0     0.0  C23                2   57387   \n",
              "1    02/01/19          1  28.0     0.0  C23                2   57387   \n",
              "2    03/01/19          1  28.0     0.0  C23                2   57387   \n",
              "3    11/01/20          2  31.0     0.0   C7                2   67016   \n",
              "4    12/01/20          2  31.0     0.0   C7                2   67016   \n",
              "..        ...        ...   ...     ...  ...              ...     ...   \n",
              "108  01/01/19       2751  36.1     0.0  C17                2   53115   \n",
              "109  12/01/19       2760  31.0     1.0  C20                0   51471   \n",
              "110  01/01/19       2765  26.0     1.0  C18                1   38809   \n",
              "111  02/01/19       2774  36.7     0.0  C15                1   42313   \n",
              "112  06/01/19       2774  40.0     0.0  C15                1   42313   \n",
              "\n",
              "    Dateofjoining  Joining Designation  Grade  Total Business Value  \\\n",
              "0        24/12/18                    1      1               2381060   \n",
              "1        24/12/18                    1      1               -665480   \n",
              "2        24/12/18                    1      1                     0   \n",
              "3        11/06/20                    2      2                     0   \n",
              "4        11/06/20                    2      2                     0   \n",
              "..            ...                  ...    ...                   ...   \n",
              "108      11/05/15                    1      1                506550   \n",
              "109      10/03/19                    3      3                     0   \n",
              "110      10/02/18                    1      1                     0   \n",
              "111      21/07/18                    1      1               1141280   \n",
              "112      21/07/18                    1      1                     0   \n",
              "\n",
              "     Quarterly Rating  IsChurn  \n",
              "0                   2        0  \n",
              "1                   2        0  \n",
              "2                   2        1  \n",
              "3                   1        0  \n",
              "4                   1        0  \n",
              "..                ...      ...  \n",
              "108                 3        0  \n",
              "109                 1        0  \n",
              "110                 1        0  \n",
              "111                 4        0  \n",
              "112                 2        0  \n",
              "\n",
              "[19104 rows x 13 columns]"
            ],
            "text/html": [
              "\n",
              "  <div id=\"df-c47ed8b9-1f60-4875-ba09-54a980bd635e\" class=\"colab-df-container\">\n",
              "    <div>\n",
              "<style scoped>\n",
              "    .dataframe tbody tr th:only-of-type {\n",
              "        vertical-align: middle;\n",
              "    }\n",
              "\n",
              "    .dataframe tbody tr th {\n",
              "        vertical-align: top;\n",
              "    }\n",
              "\n",
              "    .dataframe thead th {\n",
              "        text-align: right;\n",
              "    }\n",
              "</style>\n",
              "<table border=\"1\" class=\"dataframe\">\n",
              "  <thead>\n",
              "    <tr style=\"text-align: right;\">\n",
              "      <th></th>\n",
              "      <th>MMM-YY</th>\n",
              "      <th>Driver_ID</th>\n",
              "      <th>Age</th>\n",
              "      <th>Gender</th>\n",
              "      <th>City</th>\n",
              "      <th>Education_Level</th>\n",
              "      <th>Income</th>\n",
              "      <th>Dateofjoining</th>\n",
              "      <th>Joining Designation</th>\n",
              "      <th>Grade</th>\n",
              "      <th>Total Business Value</th>\n",
              "      <th>Quarterly Rating</th>\n",
              "      <th>IsChurn</th>\n",
              "    </tr>\n",
              "  </thead>\n",
              "  <tbody>\n",
              "    <tr>\n",
              "      <th>0</th>\n",
              "      <td>01/01/19</td>\n",
              "      <td>1</td>\n",
              "      <td>28.0</td>\n",
              "      <td>0.0</td>\n",
              "      <td>C23</td>\n",
              "      <td>2</td>\n",
              "      <td>57387</td>\n",
              "      <td>24/12/18</td>\n",
              "      <td>1</td>\n",
              "      <td>1</td>\n",
              "      <td>2381060</td>\n",
              "      <td>2</td>\n",
              "      <td>0</td>\n",
              "    </tr>\n",
              "    <tr>\n",
              "      <th>1</th>\n",
              "      <td>02/01/19</td>\n",
              "      <td>1</td>\n",
              "      <td>28.0</td>\n",
              "      <td>0.0</td>\n",
              "      <td>C23</td>\n",
              "      <td>2</td>\n",
              "      <td>57387</td>\n",
              "      <td>24/12/18</td>\n",
              "      <td>1</td>\n",
              "      <td>1</td>\n",
              "      <td>-665480</td>\n",
              "      <td>2</td>\n",
              "      <td>0</td>\n",
              "    </tr>\n",
              "    <tr>\n",
              "      <th>2</th>\n",
              "      <td>03/01/19</td>\n",
              "      <td>1</td>\n",
              "      <td>28.0</td>\n",
              "      <td>0.0</td>\n",
              "      <td>C23</td>\n",
              "      <td>2</td>\n",
              "      <td>57387</td>\n",
              "      <td>24/12/18</td>\n",
              "      <td>1</td>\n",
              "      <td>1</td>\n",
              "      <td>0</td>\n",
              "      <td>2</td>\n",
              "      <td>1</td>\n",
              "    </tr>\n",
              "    <tr>\n",
              "      <th>3</th>\n",
              "      <td>11/01/20</td>\n",
              "      <td>2</td>\n",
              "      <td>31.0</td>\n",
              "      <td>0.0</td>\n",
              "      <td>C7</td>\n",
              "      <td>2</td>\n",
              "      <td>67016</td>\n",
              "      <td>11/06/20</td>\n",
              "      <td>2</td>\n",
              "      <td>2</td>\n",
              "      <td>0</td>\n",
              "      <td>1</td>\n",
              "      <td>0</td>\n",
              "    </tr>\n",
              "    <tr>\n",
              "      <th>4</th>\n",
              "      <td>12/01/20</td>\n",
              "      <td>2</td>\n",
              "      <td>31.0</td>\n",
              "      <td>0.0</td>\n",
              "      <td>C7</td>\n",
              "      <td>2</td>\n",
              "      <td>67016</td>\n",
              "      <td>11/06/20</td>\n",
              "      <td>2</td>\n",
              "      <td>2</td>\n",
              "      <td>0</td>\n",
              "      <td>1</td>\n",
              "      <td>0</td>\n",
              "    </tr>\n",
              "    <tr>\n",
              "      <th>...</th>\n",
              "      <td>...</td>\n",
              "      <td>...</td>\n",
              "      <td>...</td>\n",
              "      <td>...</td>\n",
              "      <td>...</td>\n",
              "      <td>...</td>\n",
              "      <td>...</td>\n",
              "      <td>...</td>\n",
              "      <td>...</td>\n",
              "      <td>...</td>\n",
              "      <td>...</td>\n",
              "      <td>...</td>\n",
              "      <td>...</td>\n",
              "    </tr>\n",
              "    <tr>\n",
              "      <th>108</th>\n",
              "      <td>01/01/19</td>\n",
              "      <td>2751</td>\n",
              "      <td>36.1</td>\n",
              "      <td>0.0</td>\n",
              "      <td>C17</td>\n",
              "      <td>2</td>\n",
              "      <td>53115</td>\n",
              "      <td>11/05/15</td>\n",
              "      <td>1</td>\n",
              "      <td>1</td>\n",
              "      <td>506550</td>\n",
              "      <td>3</td>\n",
              "      <td>0</td>\n",
              "    </tr>\n",
              "    <tr>\n",
              "      <th>109</th>\n",
              "      <td>12/01/19</td>\n",
              "      <td>2760</td>\n",
              "      <td>31.0</td>\n",
              "      <td>1.0</td>\n",
              "      <td>C20</td>\n",
              "      <td>0</td>\n",
              "      <td>51471</td>\n",
              "      <td>10/03/19</td>\n",
              "      <td>3</td>\n",
              "      <td>3</td>\n",
              "      <td>0</td>\n",
              "      <td>1</td>\n",
              "      <td>0</td>\n",
              "    </tr>\n",
              "    <tr>\n",
              "      <th>110</th>\n",
              "      <td>01/01/19</td>\n",
              "      <td>2765</td>\n",
              "      <td>26.0</td>\n",
              "      <td>1.0</td>\n",
              "      <td>C18</td>\n",
              "      <td>1</td>\n",
              "      <td>38809</td>\n",
              "      <td>10/02/18</td>\n",
              "      <td>1</td>\n",
              "      <td>1</td>\n",
              "      <td>0</td>\n",
              "      <td>1</td>\n",
              "      <td>0</td>\n",
              "    </tr>\n",
              "    <tr>\n",
              "      <th>111</th>\n",
              "      <td>02/01/19</td>\n",
              "      <td>2774</td>\n",
              "      <td>36.7</td>\n",
              "      <td>0.0</td>\n",
              "      <td>C15</td>\n",
              "      <td>1</td>\n",
              "      <td>42313</td>\n",
              "      <td>21/07/18</td>\n",
              "      <td>1</td>\n",
              "      <td>1</td>\n",
              "      <td>1141280</td>\n",
              "      <td>4</td>\n",
              "      <td>0</td>\n",
              "    </tr>\n",
              "    <tr>\n",
              "      <th>112</th>\n",
              "      <td>06/01/19</td>\n",
              "      <td>2774</td>\n",
              "      <td>40.0</td>\n",
              "      <td>0.0</td>\n",
              "      <td>C15</td>\n",
              "      <td>1</td>\n",
              "      <td>42313</td>\n",
              "      <td>21/07/18</td>\n",
              "      <td>1</td>\n",
              "      <td>1</td>\n",
              "      <td>0</td>\n",
              "      <td>2</td>\n",
              "      <td>0</td>\n",
              "    </tr>\n",
              "  </tbody>\n",
              "</table>\n",
              "<p>19104 rows × 13 columns</p>\n",
              "</div>\n",
              "    <div class=\"colab-df-buttons\">\n",
              "\n",
              "  <div class=\"colab-df-container\">\n",
              "    <button class=\"colab-df-convert\" onclick=\"convertToInteractive('df-c47ed8b9-1f60-4875-ba09-54a980bd635e')\"\n",
              "            title=\"Convert this dataframe to an interactive table.\"\n",
              "            style=\"display:none;\">\n",
              "\n",
              "  <svg xmlns=\"http://www.w3.org/2000/svg\" height=\"24px\" viewBox=\"0 -960 960 960\">\n",
              "    <path d=\"M120-120v-720h720v720H120Zm60-500h600v-160H180v160Zm220 220h160v-160H400v160Zm0 220h160v-160H400v160ZM180-400h160v-160H180v160Zm440 0h160v-160H620v160ZM180-180h160v-160H180v160Zm440 0h160v-160H620v160Z\"/>\n",
              "  </svg>\n",
              "    </button>\n",
              "\n",
              "  <style>\n",
              "    .colab-df-container {\n",
              "      display:flex;\n",
              "      gap: 12px;\n",
              "    }\n",
              "\n",
              "    .colab-df-convert {\n",
              "      background-color: #E8F0FE;\n",
              "      border: none;\n",
              "      border-radius: 50%;\n",
              "      cursor: pointer;\n",
              "      display: none;\n",
              "      fill: #1967D2;\n",
              "      height: 32px;\n",
              "      padding: 0 0 0 0;\n",
              "      width: 32px;\n",
              "    }\n",
              "\n",
              "    .colab-df-convert:hover {\n",
              "      background-color: #E2EBFA;\n",
              "      box-shadow: 0px 1px 2px rgba(60, 64, 67, 0.3), 0px 1px 3px 1px rgba(60, 64, 67, 0.15);\n",
              "      fill: #174EA6;\n",
              "    }\n",
              "\n",
              "    .colab-df-buttons div {\n",
              "      margin-bottom: 4px;\n",
              "    }\n",
              "\n",
              "    [theme=dark] .colab-df-convert {\n",
              "      background-color: #3B4455;\n",
              "      fill: #D2E3FC;\n",
              "    }\n",
              "\n",
              "    [theme=dark] .colab-df-convert:hover {\n",
              "      background-color: #434B5C;\n",
              "      box-shadow: 0px 1px 3px 1px rgba(0, 0, 0, 0.15);\n",
              "      filter: drop-shadow(0px 1px 2px rgba(0, 0, 0, 0.3));\n",
              "      fill: #FFFFFF;\n",
              "    }\n",
              "  </style>\n",
              "\n",
              "    <script>\n",
              "      const buttonEl =\n",
              "        document.querySelector('#df-c47ed8b9-1f60-4875-ba09-54a980bd635e button.colab-df-convert');\n",
              "      buttonEl.style.display =\n",
              "        google.colab.kernel.accessAllowed ? 'block' : 'none';\n",
              "\n",
              "      async function convertToInteractive(key) {\n",
              "        const element = document.querySelector('#df-c47ed8b9-1f60-4875-ba09-54a980bd635e');\n",
              "        const dataTable =\n",
              "          await google.colab.kernel.invokeFunction('convertToInteractive',\n",
              "                                                    [key], {});\n",
              "        if (!dataTable) return;\n",
              "\n",
              "        const docLinkHtml = 'Like what you see? Visit the ' +\n",
              "          '<a target=\"_blank\" href=https://colab.research.google.com/notebooks/data_table.ipynb>data table notebook</a>'\n",
              "          + ' to learn more about interactive tables.';\n",
              "        element.innerHTML = '';\n",
              "        dataTable['output_type'] = 'display_data';\n",
              "        await google.colab.output.renderOutput(dataTable, element);\n",
              "        const docLink = document.createElement('div');\n",
              "        docLink.innerHTML = docLinkHtml;\n",
              "        element.appendChild(docLink);\n",
              "      }\n",
              "    </script>\n",
              "  </div>\n",
              "\n",
              "\n",
              "<div id=\"df-a90f59b4-5ca4-4fc0-8a10-8249141b3223\">\n",
              "  <button class=\"colab-df-quickchart\" onclick=\"quickchart('df-a90f59b4-5ca4-4fc0-8a10-8249141b3223')\"\n",
              "            title=\"Suggest charts\"\n",
              "            style=\"display:none;\">\n",
              "\n",
              "<svg xmlns=\"http://www.w3.org/2000/svg\" height=\"24px\"viewBox=\"0 0 24 24\"\n",
              "     width=\"24px\">\n",
              "    <g>\n",
              "        <path d=\"M19 3H5c-1.1 0-2 .9-2 2v14c0 1.1.9 2 2 2h14c1.1 0 2-.9 2-2V5c0-1.1-.9-2-2-2zM9 17H7v-7h2v7zm4 0h-2V7h2v10zm4 0h-2v-4h2v4z\"/>\n",
              "    </g>\n",
              "</svg>\n",
              "  </button>\n",
              "\n",
              "<style>\n",
              "  .colab-df-quickchart {\n",
              "      --bg-color: #E8F0FE;\n",
              "      --fill-color: #1967D2;\n",
              "      --hover-bg-color: #E2EBFA;\n",
              "      --hover-fill-color: #174EA6;\n",
              "      --disabled-fill-color: #AAA;\n",
              "      --disabled-bg-color: #DDD;\n",
              "  }\n",
              "\n",
              "  [theme=dark] .colab-df-quickchart {\n",
              "      --bg-color: #3B4455;\n",
              "      --fill-color: #D2E3FC;\n",
              "      --hover-bg-color: #434B5C;\n",
              "      --hover-fill-color: #FFFFFF;\n",
              "      --disabled-bg-color: #3B4455;\n",
              "      --disabled-fill-color: #666;\n",
              "  }\n",
              "\n",
              "  .colab-df-quickchart {\n",
              "    background-color: var(--bg-color);\n",
              "    border: none;\n",
              "    border-radius: 50%;\n",
              "    cursor: pointer;\n",
              "    display: none;\n",
              "    fill: var(--fill-color);\n",
              "    height: 32px;\n",
              "    padding: 0;\n",
              "    width: 32px;\n",
              "  }\n",
              "\n",
              "  .colab-df-quickchart:hover {\n",
              "    background-color: var(--hover-bg-color);\n",
              "    box-shadow: 0 1px 2px rgba(60, 64, 67, 0.3), 0 1px 3px 1px rgba(60, 64, 67, 0.15);\n",
              "    fill: var(--button-hover-fill-color);\n",
              "  }\n",
              "\n",
              "  .colab-df-quickchart-complete:disabled,\n",
              "  .colab-df-quickchart-complete:disabled:hover {\n",
              "    background-color: var(--disabled-bg-color);\n",
              "    fill: var(--disabled-fill-color);\n",
              "    box-shadow: none;\n",
              "  }\n",
              "\n",
              "  .colab-df-spinner {\n",
              "    border: 2px solid var(--fill-color);\n",
              "    border-color: transparent;\n",
              "    border-bottom-color: var(--fill-color);\n",
              "    animation:\n",
              "      spin 1s steps(1) infinite;\n",
              "  }\n",
              "\n",
              "  @keyframes spin {\n",
              "    0% {\n",
              "      border-color: transparent;\n",
              "      border-bottom-color: var(--fill-color);\n",
              "      border-left-color: var(--fill-color);\n",
              "    }\n",
              "    20% {\n",
              "      border-color: transparent;\n",
              "      border-left-color: var(--fill-color);\n",
              "      border-top-color: var(--fill-color);\n",
              "    }\n",
              "    30% {\n",
              "      border-color: transparent;\n",
              "      border-left-color: var(--fill-color);\n",
              "      border-top-color: var(--fill-color);\n",
              "      border-right-color: var(--fill-color);\n",
              "    }\n",
              "    40% {\n",
              "      border-color: transparent;\n",
              "      border-right-color: var(--fill-color);\n",
              "      border-top-color: var(--fill-color);\n",
              "    }\n",
              "    60% {\n",
              "      border-color: transparent;\n",
              "      border-right-color: var(--fill-color);\n",
              "    }\n",
              "    80% {\n",
              "      border-color: transparent;\n",
              "      border-right-color: var(--fill-color);\n",
              "      border-bottom-color: var(--fill-color);\n",
              "    }\n",
              "    90% {\n",
              "      border-color: transparent;\n",
              "      border-bottom-color: var(--fill-color);\n",
              "    }\n",
              "  }\n",
              "</style>\n",
              "\n",
              "  <script>\n",
              "    async function quickchart(key) {\n",
              "      const quickchartButtonEl =\n",
              "        document.querySelector('#' + key + ' button');\n",
              "      quickchartButtonEl.disabled = true;  // To prevent multiple clicks.\n",
              "      quickchartButtonEl.classList.add('colab-df-spinner');\n",
              "      try {\n",
              "        const charts = await google.colab.kernel.invokeFunction(\n",
              "            'suggestCharts', [key], {});\n",
              "      } catch (error) {\n",
              "        console.error('Error during call to suggestCharts:', error);\n",
              "      }\n",
              "      quickchartButtonEl.classList.remove('colab-df-spinner');\n",
              "      quickchartButtonEl.classList.add('colab-df-quickchart-complete');\n",
              "    }\n",
              "    (() => {\n",
              "      let quickchartButtonEl =\n",
              "        document.querySelector('#df-a90f59b4-5ca4-4fc0-8a10-8249141b3223 button');\n",
              "      quickchartButtonEl.style.display =\n",
              "        google.colab.kernel.accessAllowed ? 'block' : 'none';\n",
              "    })();\n",
              "  </script>\n",
              "</div>\n",
              "\n",
              "  <div id=\"id_d7c1be06-ecce-4b37-928c-40f6bd781779\">\n",
              "    <style>\n",
              "      .colab-df-generate {\n",
              "        background-color: #E8F0FE;\n",
              "        border: none;\n",
              "        border-radius: 50%;\n",
              "        cursor: pointer;\n",
              "        display: none;\n",
              "        fill: #1967D2;\n",
              "        height: 32px;\n",
              "        padding: 0 0 0 0;\n",
              "        width: 32px;\n",
              "      }\n",
              "\n",
              "      .colab-df-generate:hover {\n",
              "        background-color: #E2EBFA;\n",
              "        box-shadow: 0px 1px 2px rgba(60, 64, 67, 0.3), 0px 1px 3px 1px rgba(60, 64, 67, 0.15);\n",
              "        fill: #174EA6;\n",
              "      }\n",
              "\n",
              "      [theme=dark] .colab-df-generate {\n",
              "        background-color: #3B4455;\n",
              "        fill: #D2E3FC;\n",
              "      }\n",
              "\n",
              "      [theme=dark] .colab-df-generate:hover {\n",
              "        background-color: #434B5C;\n",
              "        box-shadow: 0px 1px 3px 1px rgba(0, 0, 0, 0.15);\n",
              "        filter: drop-shadow(0px 1px 2px rgba(0, 0, 0, 0.3));\n",
              "        fill: #FFFFFF;\n",
              "      }\n",
              "    </style>\n",
              "    <button class=\"colab-df-generate\" onclick=\"generateWithVariable('merged_df')\"\n",
              "            title=\"Generate code using this dataframe.\"\n",
              "            style=\"display:none;\">\n",
              "\n",
              "  <svg xmlns=\"http://www.w3.org/2000/svg\" height=\"24px\"viewBox=\"0 0 24 24\"\n",
              "       width=\"24px\">\n",
              "    <path d=\"M7,19H8.4L18.45,9,17,7.55,7,17.6ZM5,21V16.75L18.45,3.32a2,2,0,0,1,2.83,0l1.4,1.43a1.91,1.91,0,0,1,.58,1.4,1.91,1.91,0,0,1-.58,1.4L9.25,21ZM18.45,9,17,7.55Zm-12,3A5.31,5.31,0,0,0,4.9,8.1,5.31,5.31,0,0,0,1,6.5,5.31,5.31,0,0,0,4.9,4.9,5.31,5.31,0,0,0,6.5,1,5.31,5.31,0,0,0,8.1,4.9,5.31,5.31,0,0,0,12,6.5,5.46,5.46,0,0,0,6.5,12Z\"/>\n",
              "  </svg>\n",
              "    </button>\n",
              "    <script>\n",
              "      (() => {\n",
              "      const buttonEl =\n",
              "        document.querySelector('#id_d7c1be06-ecce-4b37-928c-40f6bd781779 button.colab-df-generate');\n",
              "      buttonEl.style.display =\n",
              "        google.colab.kernel.accessAllowed ? 'block' : 'none';\n",
              "\n",
              "      buttonEl.onclick = () => {\n",
              "        google.colab.notebook.generateWithVariable('merged_df');\n",
              "      }\n",
              "      })();\n",
              "    </script>\n",
              "  </div>\n",
              "\n",
              "    </div>\n",
              "  </div>\n"
            ],
            "application/vnd.google.colaboratory.intrinsic+json": {
              "type": "dataframe",
              "variable_name": "merged_df",
              "repr_error": "'str' object has no attribute 'empty'"
            }
          },
          "metadata": {},
          "execution_count": 135
        }
      ]
    },
    {
      "cell_type": "code",
      "source": [
        "merged_df['year']  = pd.to_datetime(merged_df['MMM-YY']).dt.year\n",
        "merged_df['month'] = pd.to_datetime(merged_df['MMM-YY']).dt.month\n",
        "merged_df['day']   = pd.to_datetime(merged_df['MMM-YY']).dt.day"
      ],
      "metadata": {
        "id": "bcWfmhs1AI05"
      },
      "execution_count": null,
      "outputs": []
    },
    {
      "cell_type": "code",
      "source": [
        "merged_df['joining_year']  = pd.to_datetime(merged_df['Dateofjoining']).dt.year\n",
        "merged_df['joining_month'] = pd.to_datetime(merged_df['Dateofjoining']).dt.month\n",
        "merged_df['joing_day']     = pd.to_datetime(merged_df['Dateofjoining']).dt.day"
      ],
      "metadata": {
        "id": "gDSUs3vBB5VS"
      },
      "execution_count": null,
      "outputs": []
    },
    {
      "cell_type": "code",
      "source": [
        "reference_date = pd.to_datetime('1990-01-01')\n",
        "# convertin these  object types to float values to fit models\n",
        "# Calculate time difference\n",
        "merged_df['MMM-YY'] = (pd.to_datetime(df['MMM-YY']) - reference_date).dt.days\n",
        "merged_df['Dateofjoining'] = (pd.to_datetime(df['Dateofjoining']) - reference_date).dt.days"
      ],
      "metadata": {
        "id": "M6dz-R6VEvwf"
      },
      "execution_count": null,
      "outputs": []
    },
    {
      "cell_type": "code",
      "source": [
        "final_df = pd.get_dummies(merged_df,columns=['City'])"
      ],
      "metadata": {
        "id": "cNhm2LjDE9B-"
      },
      "execution_count": null,
      "outputs": []
    },
    {
      "cell_type": "code",
      "source": [
        "final_df.info()"
      ],
      "metadata": {
        "colab": {
          "base_uri": "https://localhost:8080/"
        },
        "id": "aG0gvzXcE8-c",
        "outputId": "ad62466e-846a-48b9-b16b-796e77cdae17"
      },
      "execution_count": null,
      "outputs": [
        {
          "output_type": "stream",
          "name": "stdout",
          "text": [
            "<class 'pandas.core.frame.DataFrame'>\n",
            "Int64Index: 19104 entries, 0 to 112\n",
            "Data columns (total 47 columns):\n",
            " #   Column                Non-Null Count  Dtype  \n",
            "---  ------                --------------  -----  \n",
            " 0   MMM-YY                19104 non-null  int64  \n",
            " 1   Driver_ID             19104 non-null  int64  \n",
            " 2   Age                   19104 non-null  float64\n",
            " 3   Gender                19104 non-null  float64\n",
            " 4   Education_Level       19104 non-null  int64  \n",
            " 5   Income                19104 non-null  int64  \n",
            " 6   Dateofjoining         19104 non-null  int64  \n",
            " 7   Joining Designation   19104 non-null  int64  \n",
            " 8   Grade                 19104 non-null  int64  \n",
            " 9   Total Business Value  19104 non-null  int64  \n",
            " 10  Quarterly Rating      19104 non-null  int64  \n",
            " 11  IsChurn               19104 non-null  int64  \n",
            " 12  year                  19104 non-null  int64  \n",
            " 13  month                 19104 non-null  int64  \n",
            " 14  day                   19104 non-null  int64  \n",
            " 15  joining_year          19104 non-null  int64  \n",
            " 16  joining_month         19104 non-null  int64  \n",
            " 17  joing_day             19104 non-null  int64  \n",
            " 18  City_C1               19104 non-null  uint8  \n",
            " 19  City_C10              19104 non-null  uint8  \n",
            " 20  City_C11              19104 non-null  uint8  \n",
            " 21  City_C12              19104 non-null  uint8  \n",
            " 22  City_C13              19104 non-null  uint8  \n",
            " 23  City_C14              19104 non-null  uint8  \n",
            " 24  City_C15              19104 non-null  uint8  \n",
            " 25  City_C16              19104 non-null  uint8  \n",
            " 26  City_C17              19104 non-null  uint8  \n",
            " 27  City_C18              19104 non-null  uint8  \n",
            " 28  City_C19              19104 non-null  uint8  \n",
            " 29  City_C2               19104 non-null  uint8  \n",
            " 30  City_C20              19104 non-null  uint8  \n",
            " 31  City_C21              19104 non-null  uint8  \n",
            " 32  City_C22              19104 non-null  uint8  \n",
            " 33  City_C23              19104 non-null  uint8  \n",
            " 34  City_C24              19104 non-null  uint8  \n",
            " 35  City_C25              19104 non-null  uint8  \n",
            " 36  City_C26              19104 non-null  uint8  \n",
            " 37  City_C27              19104 non-null  uint8  \n",
            " 38  City_C28              19104 non-null  uint8  \n",
            " 39  City_C29              19104 non-null  uint8  \n",
            " 40  City_C3               19104 non-null  uint8  \n",
            " 41  City_C4               19104 non-null  uint8  \n",
            " 42  City_C5               19104 non-null  uint8  \n",
            " 43  City_C6               19104 non-null  uint8  \n",
            " 44  City_C7               19104 non-null  uint8  \n",
            " 45  City_C8               19104 non-null  uint8  \n",
            " 46  City_C9               19104 non-null  uint8  \n",
            "dtypes: float64(2), int64(16), uint8(29)\n",
            "memory usage: 3.3 MB\n"
          ]
        }
      ]
    },
    {
      "cell_type": "markdown",
      "source": [
        "### **Modeling**"
      ],
      "metadata": {
        "id": "TgjX3_y0E9yz"
      }
    },
    {
      "cell_type": "code",
      "source": [
        "X = final_df.drop([\"IsChurn\"],axis=1)\n",
        "y = final_df['IsChurn']"
      ],
      "metadata": {
        "id": "4Y4EUUD9KlX5"
      },
      "execution_count": null,
      "outputs": []
    },
    {
      "cell_type": "code",
      "source": [
        "# Split data into training and validation sets\n",
        "X_train, X_val, y_train, y_val = train_test_split(X, y, test_size=0.2, random_state=42)"
      ],
      "metadata": {
        "id": "W4RUDLlrKSXf"
      },
      "execution_count": null,
      "outputs": []
    },
    {
      "cell_type": "code",
      "source": [
        "# Class imbalance handled here usign model instead of upsmapling and downsampling\n",
        "\n",
        "# Calculate class weights\n",
        "from sklearn.utils.class_weight import compute_class_weight\n",
        "\n",
        "# Calculate class weights\n",
        "class_weights = compute_class_weight(class_weight=\"balanced\", classes=np.unique(y_train), y=y_train)\n",
        "\n"
      ],
      "metadata": {
        "id": "Ve6gwG0eTm0h"
      },
      "execution_count": null,
      "outputs": []
    },
    {
      "cell_type": "markdown",
      "source": [
        "**RandomForest**"
      ],
      "metadata": {
        "id": "Bq_qKqLrFlEN"
      }
    },
    {
      "cell_type": "code",
      "source": [
        "from sklearn.ensemble import RandomForestClassifier\n",
        "from sklearn.model_selection import GridSearchCV,RandomizedSearchCV"
      ],
      "metadata": {
        "id": "_zk-ymx2KhB0"
      },
      "execution_count": null,
      "outputs": []
    },
    {
      "cell_type": "code",
      "source": [
        "\n",
        "# Define the parameter grid\n",
        "param_grid_rf = {\n",
        "    'n_estimators': np.arange(50,200,50),\n",
        "    'max_depth': np.arange(5,20,5),\n",
        "    'min_samples_split': [2, 5, 10],\n",
        "    'min_samples_leaf': [1, 2, 4]\n",
        "}\n",
        "\n",
        "# Initialize the Random Forest Classifier\n",
        "rf_classifier = RandomForestClassifier(class_weight={0: class_weights[0], 1: class_weights[1]},random_state=42)\n",
        "\n",
        "# Initialize GridSearchCV\n",
        "grid_search_rf = RandomizedSearchCV(rf_classifier, param_grid_rf, cv=5, scoring='roc_auc')\n",
        "\n",
        "# Fit the grid search to the data\n",
        "grid_search_rf.fit(X_train, y_train)\n",
        "\n",
        "# Get the best parameters\n",
        "best_params_rf = grid_search_rf.best_params_\n",
        "print(\"Best Parameters for Random Forest:\", best_params_rf)\n",
        "\n",
        "# Train the model with best parameters\n",
        "best_rf_classifier = RandomForestClassifier(**best_params_rf, random_state=42)\n",
        "best_rf_classifier.fit(X_train, y_train)\n"
      ],
      "metadata": {
        "colab": {
          "base_uri": "https://localhost:8080/",
          "height": 111
        },
        "id": "8xQVVrS2E864",
        "outputId": "88517ea7-bc09-403a-aa71-7a1faecee90e"
      },
      "execution_count": null,
      "outputs": [
        {
          "output_type": "stream",
          "name": "stdout",
          "text": [
            "Best Parameters for Random Forest: {'n_estimators': 50, 'min_samples_split': 10, 'min_samples_leaf': 4, 'max_depth': 15}\n"
          ]
        },
        {
          "output_type": "execute_result",
          "data": {
            "text/plain": [
              "RandomForestClassifier(max_depth=15, min_samples_leaf=4, min_samples_split=10,\n",
              "                       n_estimators=50, random_state=42)"
            ],
            "text/html": [
              "<style>#sk-container-id-4 {color: black;background-color: white;}#sk-container-id-4 pre{padding: 0;}#sk-container-id-4 div.sk-toggleable {background-color: white;}#sk-container-id-4 label.sk-toggleable__label {cursor: pointer;display: block;width: 100%;margin-bottom: 0;padding: 0.3em;box-sizing: border-box;text-align: center;}#sk-container-id-4 label.sk-toggleable__label-arrow:before {content: \"▸\";float: left;margin-right: 0.25em;color: #696969;}#sk-container-id-4 label.sk-toggleable__label-arrow:hover:before {color: black;}#sk-container-id-4 div.sk-estimator:hover label.sk-toggleable__label-arrow:before {color: black;}#sk-container-id-4 div.sk-toggleable__content {max-height: 0;max-width: 0;overflow: hidden;text-align: left;background-color: #f0f8ff;}#sk-container-id-4 div.sk-toggleable__content pre {margin: 0.2em;color: black;border-radius: 0.25em;background-color: #f0f8ff;}#sk-container-id-4 input.sk-toggleable__control:checked~div.sk-toggleable__content {max-height: 200px;max-width: 100%;overflow: auto;}#sk-container-id-4 input.sk-toggleable__control:checked~label.sk-toggleable__label-arrow:before {content: \"▾\";}#sk-container-id-4 div.sk-estimator input.sk-toggleable__control:checked~label.sk-toggleable__label {background-color: #d4ebff;}#sk-container-id-4 div.sk-label input.sk-toggleable__control:checked~label.sk-toggleable__label {background-color: #d4ebff;}#sk-container-id-4 input.sk-hidden--visually {border: 0;clip: rect(1px 1px 1px 1px);clip: rect(1px, 1px, 1px, 1px);height: 1px;margin: -1px;overflow: hidden;padding: 0;position: absolute;width: 1px;}#sk-container-id-4 div.sk-estimator {font-family: monospace;background-color: #f0f8ff;border: 1px dotted black;border-radius: 0.25em;box-sizing: border-box;margin-bottom: 0.5em;}#sk-container-id-4 div.sk-estimator:hover {background-color: #d4ebff;}#sk-container-id-4 div.sk-parallel-item::after {content: \"\";width: 100%;border-bottom: 1px solid gray;flex-grow: 1;}#sk-container-id-4 div.sk-label:hover label.sk-toggleable__label {background-color: #d4ebff;}#sk-container-id-4 div.sk-serial::before {content: \"\";position: absolute;border-left: 1px solid gray;box-sizing: border-box;top: 0;bottom: 0;left: 50%;z-index: 0;}#sk-container-id-4 div.sk-serial {display: flex;flex-direction: column;align-items: center;background-color: white;padding-right: 0.2em;padding-left: 0.2em;position: relative;}#sk-container-id-4 div.sk-item {position: relative;z-index: 1;}#sk-container-id-4 div.sk-parallel {display: flex;align-items: stretch;justify-content: center;background-color: white;position: relative;}#sk-container-id-4 div.sk-item::before, #sk-container-id-4 div.sk-parallel-item::before {content: \"\";position: absolute;border-left: 1px solid gray;box-sizing: border-box;top: 0;bottom: 0;left: 50%;z-index: -1;}#sk-container-id-4 div.sk-parallel-item {display: flex;flex-direction: column;z-index: 1;position: relative;background-color: white;}#sk-container-id-4 div.sk-parallel-item:first-child::after {align-self: flex-end;width: 50%;}#sk-container-id-4 div.sk-parallel-item:last-child::after {align-self: flex-start;width: 50%;}#sk-container-id-4 div.sk-parallel-item:only-child::after {width: 0;}#sk-container-id-4 div.sk-dashed-wrapped {border: 1px dashed gray;margin: 0 0.4em 0.5em 0.4em;box-sizing: border-box;padding-bottom: 0.4em;background-color: white;}#sk-container-id-4 div.sk-label label {font-family: monospace;font-weight: bold;display: inline-block;line-height: 1.2em;}#sk-container-id-4 div.sk-label-container {text-align: center;}#sk-container-id-4 div.sk-container {/* jupyter's `normalize.less` sets `[hidden] { display: none; }` but bootstrap.min.css set `[hidden] { display: none !important; }` so we also need the `!important` here to be able to override the default hidden behavior on the sphinx rendered scikit-learn.org. See: https://github.com/scikit-learn/scikit-learn/issues/21755 */display: inline-block !important;position: relative;}#sk-container-id-4 div.sk-text-repr-fallback {display: none;}</style><div id=\"sk-container-id-4\" class=\"sk-top-container\"><div class=\"sk-text-repr-fallback\"><pre>RandomForestClassifier(max_depth=15, min_samples_leaf=4, min_samples_split=10,\n",
              "                       n_estimators=50, random_state=42)</pre><b>In a Jupyter environment, please rerun this cell to show the HTML representation or trust the notebook. <br />On GitHub, the HTML representation is unable to render, please try loading this page with nbviewer.org.</b></div><div class=\"sk-container\" hidden><div class=\"sk-item\"><div class=\"sk-estimator sk-toggleable\"><input class=\"sk-toggleable__control sk-hidden--visually\" id=\"sk-estimator-id-4\" type=\"checkbox\" checked><label for=\"sk-estimator-id-4\" class=\"sk-toggleable__label sk-toggleable__label-arrow\">RandomForestClassifier</label><div class=\"sk-toggleable__content\"><pre>RandomForestClassifier(max_depth=15, min_samples_leaf=4, min_samples_split=10,\n",
              "                       n_estimators=50, random_state=42)</pre></div></div></div></div></div>"
            ]
          },
          "metadata": {},
          "execution_count": 187
        }
      ]
    },
    {
      "cell_type": "code",
      "source": [
        "class_weights\n"
      ],
      "metadata": {
        "colab": {
          "base_uri": "https://localhost:8080/"
        },
        "id": "T39sLNOOQmMR",
        "outputId": "bb9212bb-a254-4d93-e44c-ed5e915a7c76"
      },
      "execution_count": null,
      "outputs": [
        {
          "output_type": "execute_result",
          "data": {
            "text/plain": [
              "array([0.54726778, 5.78901515])"
            ]
          },
          "metadata": {},
          "execution_count": 190
        }
      ]
    },
    {
      "cell_type": "markdown",
      "source": [
        "**XGBoost**"
      ],
      "metadata": {
        "id": "yKC-K-4gFyL9"
      }
    },
    {
      "cell_type": "code",
      "source": [
        "from xgboost import XGBClassifier\n",
        "\n",
        "# Define the parameter grid\n",
        "param_grid_xgb = {\n",
        "    'learning_rate': [0.01, 0.1, 0.2],\n",
        "    'n_estimators': [50, 100, 200],\n",
        "    'max_depth': [3, 5, 7],\n",
        "    'min_child_weight': [1, 3, 5],\n",
        "    'gamma': [0, 0.1, 0.2],\n",
        "    'subsample': [0.6, 0.8, 1.0],\n",
        "    'colsample_bytree': [0.6, 0.8, 1.0],\n",
        "    'reg_alpha': [0, 0.1, 0.5],\n",
        "    'reg_lambda': [1, 2, 5]\n",
        "}\n",
        "\n",
        "ratio = (y_train.value_counts()[0]) / (y_train.value_counts()[1])\n",
        "# Initialize the XGBoost Classifier\n",
        "xgb_classifier = XGBClassifier(scale_pos_weight=ratio,random_state=42)\n",
        "\n",
        "# Initialize GridSearchCV\n",
        "grid_search_xgb = RandomizedSearchCV(xgb_classifier, param_grid_xgb, cv=5, scoring='roc_auc')\n",
        "\n",
        "# Fit the grid search to the data\n",
        "grid_search_xgb.fit(X_train, y_train)\n",
        "\n",
        "# Get the best parameters\n",
        "best_params_xgb = grid_search_xgb.best_params_\n",
        "print(\"Best Parameters for XGBoost:\", best_params_xgb)\n",
        "\n",
        "# Train the model with best parameters\n",
        "best_xgb_classifier = XGBClassifier(**best_params_xgb, random_state=42)\n",
        "best_xgb_classifier.fit(X_train, y_train)\n"
      ],
      "metadata": {
        "colab": {
          "base_uri": "https://localhost:8080/",
          "height": 287
        },
        "id": "YuKjaAPDFzf9",
        "outputId": "e75b873c-9926-4348-d055-63d83b68fff9"
      },
      "execution_count": null,
      "outputs": [
        {
          "output_type": "stream",
          "name": "stdout",
          "text": [
            "Best Parameters for XGBoost: {'subsample': 1.0, 'reg_lambda': 1, 'reg_alpha': 0, 'n_estimators': 100, 'min_child_weight': 1, 'max_depth': 3, 'learning_rate': 0.2, 'gamma': 0.2, 'colsample_bytree': 1.0}\n"
          ]
        },
        {
          "output_type": "execute_result",
          "data": {
            "text/plain": [
              "XGBClassifier(base_score=None, booster=None, callbacks=None,\n",
              "              colsample_bylevel=None, colsample_bynode=None,\n",
              "              colsample_bytree=1.0, device=None, early_stopping_rounds=None,\n",
              "              enable_categorical=False, eval_metric=None, feature_types=None,\n",
              "              gamma=0.2, grow_policy=None, importance_type=None,\n",
              "              interaction_constraints=None, learning_rate=0.2, max_bin=None,\n",
              "              max_cat_threshold=None, max_cat_to_onehot=None,\n",
              "              max_delta_step=None, max_depth=3, max_leaves=None,\n",
              "              min_child_weight=1, missing=nan, monotone_constraints=None,\n",
              "              multi_strategy=None, n_estimators=100, n_jobs=None,\n",
              "              num_parallel_tree=None, random_state=42, ...)"
            ],
            "text/html": [
              "<style>#sk-container-id-5 {color: black;background-color: white;}#sk-container-id-5 pre{padding: 0;}#sk-container-id-5 div.sk-toggleable {background-color: white;}#sk-container-id-5 label.sk-toggleable__label {cursor: pointer;display: block;width: 100%;margin-bottom: 0;padding: 0.3em;box-sizing: border-box;text-align: center;}#sk-container-id-5 label.sk-toggleable__label-arrow:before {content: \"▸\";float: left;margin-right: 0.25em;color: #696969;}#sk-container-id-5 label.sk-toggleable__label-arrow:hover:before {color: black;}#sk-container-id-5 div.sk-estimator:hover label.sk-toggleable__label-arrow:before {color: black;}#sk-container-id-5 div.sk-toggleable__content {max-height: 0;max-width: 0;overflow: hidden;text-align: left;background-color: #f0f8ff;}#sk-container-id-5 div.sk-toggleable__content pre {margin: 0.2em;color: black;border-radius: 0.25em;background-color: #f0f8ff;}#sk-container-id-5 input.sk-toggleable__control:checked~div.sk-toggleable__content {max-height: 200px;max-width: 100%;overflow: auto;}#sk-container-id-5 input.sk-toggleable__control:checked~label.sk-toggleable__label-arrow:before {content: \"▾\";}#sk-container-id-5 div.sk-estimator input.sk-toggleable__control:checked~label.sk-toggleable__label {background-color: #d4ebff;}#sk-container-id-5 div.sk-label input.sk-toggleable__control:checked~label.sk-toggleable__label {background-color: #d4ebff;}#sk-container-id-5 input.sk-hidden--visually {border: 0;clip: rect(1px 1px 1px 1px);clip: rect(1px, 1px, 1px, 1px);height: 1px;margin: -1px;overflow: hidden;padding: 0;position: absolute;width: 1px;}#sk-container-id-5 div.sk-estimator {font-family: monospace;background-color: #f0f8ff;border: 1px dotted black;border-radius: 0.25em;box-sizing: border-box;margin-bottom: 0.5em;}#sk-container-id-5 div.sk-estimator:hover {background-color: #d4ebff;}#sk-container-id-5 div.sk-parallel-item::after {content: \"\";width: 100%;border-bottom: 1px solid gray;flex-grow: 1;}#sk-container-id-5 div.sk-label:hover label.sk-toggleable__label {background-color: #d4ebff;}#sk-container-id-5 div.sk-serial::before {content: \"\";position: absolute;border-left: 1px solid gray;box-sizing: border-box;top: 0;bottom: 0;left: 50%;z-index: 0;}#sk-container-id-5 div.sk-serial {display: flex;flex-direction: column;align-items: center;background-color: white;padding-right: 0.2em;padding-left: 0.2em;position: relative;}#sk-container-id-5 div.sk-item {position: relative;z-index: 1;}#sk-container-id-5 div.sk-parallel {display: flex;align-items: stretch;justify-content: center;background-color: white;position: relative;}#sk-container-id-5 div.sk-item::before, #sk-container-id-5 div.sk-parallel-item::before {content: \"\";position: absolute;border-left: 1px solid gray;box-sizing: border-box;top: 0;bottom: 0;left: 50%;z-index: -1;}#sk-container-id-5 div.sk-parallel-item {display: flex;flex-direction: column;z-index: 1;position: relative;background-color: white;}#sk-container-id-5 div.sk-parallel-item:first-child::after {align-self: flex-end;width: 50%;}#sk-container-id-5 div.sk-parallel-item:last-child::after {align-self: flex-start;width: 50%;}#sk-container-id-5 div.sk-parallel-item:only-child::after {width: 0;}#sk-container-id-5 div.sk-dashed-wrapped {border: 1px dashed gray;margin: 0 0.4em 0.5em 0.4em;box-sizing: border-box;padding-bottom: 0.4em;background-color: white;}#sk-container-id-5 div.sk-label label {font-family: monospace;font-weight: bold;display: inline-block;line-height: 1.2em;}#sk-container-id-5 div.sk-label-container {text-align: center;}#sk-container-id-5 div.sk-container {/* jupyter's `normalize.less` sets `[hidden] { display: none; }` but bootstrap.min.css set `[hidden] { display: none !important; }` so we also need the `!important` here to be able to override the default hidden behavior on the sphinx rendered scikit-learn.org. See: https://github.com/scikit-learn/scikit-learn/issues/21755 */display: inline-block !important;position: relative;}#sk-container-id-5 div.sk-text-repr-fallback {display: none;}</style><div id=\"sk-container-id-5\" class=\"sk-top-container\"><div class=\"sk-text-repr-fallback\"><pre>XGBClassifier(base_score=None, booster=None, callbacks=None,\n",
              "              colsample_bylevel=None, colsample_bynode=None,\n",
              "              colsample_bytree=1.0, device=None, early_stopping_rounds=None,\n",
              "              enable_categorical=False, eval_metric=None, feature_types=None,\n",
              "              gamma=0.2, grow_policy=None, importance_type=None,\n",
              "              interaction_constraints=None, learning_rate=0.2, max_bin=None,\n",
              "              max_cat_threshold=None, max_cat_to_onehot=None,\n",
              "              max_delta_step=None, max_depth=3, max_leaves=None,\n",
              "              min_child_weight=1, missing=nan, monotone_constraints=None,\n",
              "              multi_strategy=None, n_estimators=100, n_jobs=None,\n",
              "              num_parallel_tree=None, random_state=42, ...)</pre><b>In a Jupyter environment, please rerun this cell to show the HTML representation or trust the notebook. <br />On GitHub, the HTML representation is unable to render, please try loading this page with nbviewer.org.</b></div><div class=\"sk-container\" hidden><div class=\"sk-item\"><div class=\"sk-estimator sk-toggleable\"><input class=\"sk-toggleable__control sk-hidden--visually\" id=\"sk-estimator-id-5\" type=\"checkbox\" checked><label for=\"sk-estimator-id-5\" class=\"sk-toggleable__label sk-toggleable__label-arrow\">XGBClassifier</label><div class=\"sk-toggleable__content\"><pre>XGBClassifier(base_score=None, booster=None, callbacks=None,\n",
              "              colsample_bylevel=None, colsample_bynode=None,\n",
              "              colsample_bytree=1.0, device=None, early_stopping_rounds=None,\n",
              "              enable_categorical=False, eval_metric=None, feature_types=None,\n",
              "              gamma=0.2, grow_policy=None, importance_type=None,\n",
              "              interaction_constraints=None, learning_rate=0.2, max_bin=None,\n",
              "              max_cat_threshold=None, max_cat_to_onehot=None,\n",
              "              max_delta_step=None, max_depth=3, max_leaves=None,\n",
              "              min_child_weight=1, missing=nan, monotone_constraints=None,\n",
              "              multi_strategy=None, n_estimators=100, n_jobs=None,\n",
              "              num_parallel_tree=None, random_state=42, ...)</pre></div></div></div></div></div>"
            ]
          },
          "metadata": {},
          "execution_count": 191
        }
      ]
    },
    {
      "cell_type": "code",
      "source": [
        "from sklearn.metrics import roc_curve, auc\n",
        "import matplotlib.pyplot as plt\n",
        "\n",
        "# Predict probabilities for each classifier\n",
        "rf_probs = best_rf_classifier.predict_proba(X_test)[:, 1]\n",
        "xgboost_probs = best_xgb_classifier.predict_proba(X_test)[:, 1]\n",
        "\n",
        "# Compute ROC curve and ROC area for each classifier\n",
        "rf_fpr, rf_tpr, _ = roc_curve(y_test, rf_probs)\n",
        "xgboost_fpr, xgboost_tpr, _ = roc_curve(y_test, xgboost_probs)\n",
        "\n",
        "# Compute AUC for each classifier\n",
        "rf_auc = auc(rf_fpr, rf_tpr)\n",
        "xgboost_auc = auc(xgboost_fpr, xgboost_tpr)\n",
        "\n",
        "# Plot ROC curve for each classifier\n",
        "plt.figure(figsize=(10, 8))\n",
        "plt.plot(rf_fpr, rf_tpr, color='blue', lw=2, label=f'Random Forest (AUC = {rf_auc:.2f})')\n",
        "plt.plot(xgboost_fpr, xgboost_tpr, color='red', lw=2, label=f'xgBoost (AUC = {xgboost_auc:.2f})')\n",
        "plt.plot([0, 1], [0, 1], color='black', lw=2, linestyle='--')\n",
        "plt.xlabel('False Positive Rate')\n",
        "plt.ylabel('True Positive Rate')\n",
        "plt.title('ROC Curve')\n",
        "plt.legend(loc='lower right')\n",
        "plt.show()\n"
      ],
      "metadata": {
        "colab": {
          "base_uri": "https://localhost:8080/",
          "height": 718
        },
        "id": "lE2czIcoLyTI",
        "outputId": "96e0502a-c108-4107-c26b-d3b5d27cc2bf"
      },
      "execution_count": null,
      "outputs": [
        {
          "output_type": "display_data",
          "data": {
            "text/plain": [
              "<Figure size 1000x800 with 1 Axes>"
            ],
            "image/png": "[encoded data removed]"
          },
          "metadata": {}
        }
      ]
    },
    {
      "cell_type": "markdown",
      "source": [
        "**Observation:**\n",
        "\n",
        "seems Xgboost performing slightly better than Randomforest"
      ],
      "metadata": {
        "id": "G5o-06OPjVLi"
      }
    },
    {
      "cell_type": "code",
      "source": [
        "from sklearn.metrics import classification_report, confusion_matrix\n",
        "\n",
        "# Predictions\n",
        "rf_predictions = best_rf_classifier.predict(X_test)\n",
        "xgboost_predictions = best_xgb_classifier.predict(X_test)\n",
        "\n",
        "# Confusion matrix\n",
        "rf_conf_matrix = confusion_matrix(y_test, rf_predictions)\n",
        "xgboost_conf_matrix = confusion_matrix(y_test, xgboost_predictions)\n",
        "\n",
        "# Classification report\n",
        "rf_classification_report = classification_report(y_test, rf_predictions)\n",
        "xgboost_classification_report = classification_report(y_test, xgboost_predictions)\n",
        "\n",
        "print(\"Random Forest Confusion Matrix:\")\n",
        "print(rf_conf_matrix)\n",
        "print(\"\\nRandom Forest Classification Report:\")\n",
        "print(rf_classification_report)\n",
        "\n",
        "print(\"\\nxgBoost Confusion Matrix:\")\n",
        "print(xgboost_conf_matrix)\n",
        "print(\"\\nxgBoost Classification Report:\")\n",
        "print(xgboost_classification_report)\n"
      ],
      "metadata": {
        "colab": {
          "base_uri": "https://localhost:8080/"
        },
        "id": "uDyH5sDEL1rY",
        "outputId": "161b5f95-36cf-4959-d645-b5ac5ff7097e"
      },
      "execution_count": null,
      "outputs": [
        {
          "output_type": "stream",
          "name": "stdout",
          "text": [
            "Random Forest Confusion Matrix:\n",
            "[[1731   13]\n",
            " [ 157   10]]\n",
            "\n",
            "Random Forest Classification Report:\n",
            "              precision    recall  f1-score   support\n",
            "\n",
            "           0       0.92      0.99      0.95      1744\n",
            "           1       0.43      0.06      0.11       167\n",
            "\n",
            "    accuracy                           0.91      1911\n",
            "   macro avg       0.68      0.53      0.53      1911\n",
            "weighted avg       0.87      0.91      0.88      1911\n",
            "\n",
            "\n",
            "xgBoost Confusion Matrix:\n",
            "[[1714   30]\n",
            " [ 139   28]]\n",
            "\n",
            "xgBoost Classification Report:\n",
            "              precision    recall  f1-score   support\n",
            "\n",
            "           0       0.92      0.98      0.95      1744\n",
            "           1       0.48      0.17      0.25       167\n",
            "\n",
            "    accuracy                           0.91      1911\n",
            "   macro avg       0.70      0.58      0.60      1911\n",
            "weighted avg       0.89      0.91      0.89      1911\n",
            "\n"
          ]
        }
      ]
    },
    {
      "cell_type": "markdown",
      "source": [
        "**Observation:**\n",
        "\n",
        "Recall and precision for churn class 1 is better in the case of xgboost compared to Randomforest."
      ],
      "metadata": {
        "id": "G63SNiopkEgp"
      }
    },
    {
      "cell_type": "code",
      "source": [
        "import xgboost as xgb\n",
        "import matplotlib.pyplot as plt\n",
        "\n",
        "# Train the XGBoost model\n",
        "\n",
        "\n",
        "# Extract feature importance\n",
        "importance_type = \"weight\"  # \"weight\" or \"gain\"\n",
        "feature_importance = best_xgb_classifier.get_booster().get_score(importance_type=importance_type)\n",
        "\n",
        "# Plot feature importance\n",
        "sorted_feature_importance = sorted(feature_importance.items(), key=lambda x: x[1], reverse=True)\n",
        "features, importances = zip(*sorted_feature_importance)\n",
        "\n",
        "plt.figure(figsize=(10, 6))\n",
        "plt.barh(range(len(features)), importances, align='center')\n",
        "plt.yticks(range(len(features)), features)\n",
        "plt.xlabel(f'Feature Importance ({importance_type})')\n",
        "plt.ylabel('Features')\n",
        "plt.title(f'XGBoost Feature Importance ({importance_type})')\n",
        "plt.show()\n"
      ],
      "metadata": {
        "colab": {
          "base_uri": "https://localhost:8080/",
          "height": 564
        },
        "id": "JDG5XIZaLyMt",
        "outputId": "48f7e50f-acb4-4aae-f466-908558013086"
      },
      "execution_count": null,
      "outputs": [
        {
          "output_type": "display_data",
          "data": {
            "text/plain": [
              "<Figure size 1000x600 with 1 Axes>"
            ],
            "image/png": "[encoded data removed]"
          },
          "metadata": {}
        }
      ]
    },
    {
      "cell_type": "markdown",
      "source": [
        "Observation:\n",
        "\n",
        "seems Date of Joining and MMM-YY features contributing more to classification"
      ],
      "metadata": {
        "id": "HEw6XR88joW0"
      }
    },
    {
      "cell_type": "code",
      "source": [],
      "metadata": {
        "id": "XLA8d_7jjn19"
      },
      "execution_count": null,
      "outputs": []
    },
    {
      "cell_type": "code",
      "source": [],
      "metadata": {
        "id": "p0QXDLy5LyJc"
      },
      "execution_count": null,
      "outputs": []
    }
  ]
}